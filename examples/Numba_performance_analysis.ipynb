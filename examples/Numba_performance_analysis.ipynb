{
 "cells": [
  {
   "cell_type": "markdown",
   "metadata": {},
   "source": [
    "# **Notice:**\n",
    "**the code in this notebook is not entirely correct. I just needed I workspace to test numba.**"
   ]
  },
  {
   "cell_type": "markdown",
   "metadata": {},
   "source": [
    "# Benchmarks\n",
    "\n",
    "In this notebook, I try different versions of the functions defined in pyFCI to optimize the usage of [numba](http://numba.pydata.org/)'s just-in-time compilation capabilities.\n",
    "\n",
    "The main points are: \n",
    "- apparently, I cannot write efficient numpy code!\n",
    "- parallelizing is not particularly efficient for the problems I face.\n",
    "\n",
    "Legend:"
   ]
  },
  {
   "cell_type": "markdown",
   "metadata": {},
   "source": [
    "| Function name | Description |\n",
    "|---|---|\n",
    "| \"clean\" | numba-compilable function |\n",
    "| \"np\"    | numpy function, mostly not numba-compilable, as of first version of the pyFCI code|\n",
    "| \"jit\"  | function compiled with @njit(parallel=False,fastmath=False) |\n",
    "| \"jit_fm\"  | function compiled with @njit(parallel=False,fastmath=True) |\n",
    "| \"jit_p\"  | function compiled with @njit(parallel=True,fastmath=False) |\n",
    "| \"jit_p_fm\"  | function compiled with @njit(parallel=True,fastmath=True) |"
   ]
  },
  {
   "cell_type": "code",
   "execution_count": 1,
   "metadata": {},
   "outputs": [],
   "source": [
    "import numpy as np\n",
    "import scipy as scy\n",
    "import scipy.special as scyspc\n",
    "import scipy.optimize as scyopt\n",
    "from numba import jit,njit,prange,vectorize,float64\n",
    "from tabulate import tabulate\n",
    "\n",
    "import pyFCI as pyfci"
   ]
  },
  {
   "cell_type": "markdown",
   "metadata": {},
   "source": [
    "## Center and normalize"
   ]
  },
  {
   "cell_type": "code",
   "execution_count": 100,
   "metadata": {},
   "outputs": [],
   "source": [
    "def center_and_normalize(dataset):\n",
    "    \"\"\"\n",
    "    Center and normalize a **dataset** of N d-dimensional points so that its Euclidean barycenter is the zero vector, and each of its points has norm 1. \n",
    "\n",
    "    :param dataset: vector of shape (N,d)\n",
    "    :returns: vector of shape (N,d)\n",
    "    \"\"\"\n",
    "    mean = np.mean(dataset,axis=0)\n",
    "    return np.array([ vec / np.linalg.norm(vec) for vec in dataset - mean ])"
   ]
  },
  {
   "cell_type": "code",
   "execution_count": 210,
   "metadata": {},
   "outputs": [],
   "source": [
    "def CN_clean(a):\n",
    "    (n1,n2) = np.shape(a)\n",
    "    r = np.empty((n1,n2))\n",
    "    mean = np.empty(n2)\n",
    "    for i in range(n2):\n",
    "        mean[i] = np.mean(a[:,i])\n",
    "    for i in range(n1):\n",
    "        v = a[i] - mean\n",
    "        r[i] = v / np.linalg.norm(v)\n",
    "    return r\n",
    "\n",
    "def CN_np(a):\n",
    "    mean = np.mean(a,axis=0)\n",
    "    return np.array([ vec / np.linalg.norm(vec) for vec in a - mean ])\n",
    "    \n",
    "@njit(parallel=False)\n",
    "def CN_jit(a):\n",
    "    (n1,n2) = np.shape(a)\n",
    "    r = np.empty((n1,n2))\n",
    "    mean = np.empty(n2)\n",
    "    for i in prange(n2):\n",
    "        mean[i] = np.mean(a[:,i])\n",
    "    for i in prange(n1):\n",
    "        v = a[i] - mean\n",
    "        r[i] = v / np.linalg.norm(v)\n",
    "    return r\n",
    "\n",
    "@njit(parallel=False,fastmath = True)\n",
    "def CN_jit_fm(a):\n",
    "    (n1,n2) = np.shape(a)\n",
    "    r = np.empty((n1,n2))\n",
    "    mean = np.empty(n2)\n",
    "    for i in prange(n2):\n",
    "        mean[i] = np.mean(a[:,i])\n",
    "    for i in prange(n1):\n",
    "        v = a[i] - mean\n",
    "        r[i] = v / np.linalg.norm(v)\n",
    "    return r\n",
    "\n",
    "@njit(parallel=True)\n",
    "def CN_jit_p(a):\n",
    "    (n1,n2) = np.shape(a)\n",
    "    r = np.empty((n1,n2))\n",
    "    mean = np.empty(n2)\n",
    "    for i in prange(n2):\n",
    "        mean[i] = np.mean(a[:,i])\n",
    "    for i in prange(n1):\n",
    "        v = a[i] - mean\n",
    "        r[i] = v / np.linalg.norm(v)\n",
    "    return r\n",
    "\n",
    "@njit(parallel=True,fastmath = True)\n",
    "def CN_jit_p_fm(a):\n",
    "    (n1,n2) = np.shape(a)\n",
    "    r = np.empty((n1,n2))\n",
    "    mean = np.empty(n2)\n",
    "    for i in prange(n2):\n",
    "        mean[i] = np.mean(a[:,i])\n",
    "    for i in prange(n1):\n",
    "        v = a[i] - mean\n",
    "        r[i] = v / np.linalg.norm(v)\n",
    "    return r\n",
    "\n",
    "CN_funs = [CN_clean,CN_np,CN_jit,CN_jit_fm,CN_jit_p,CN_jit_p_fm]"
   ]
  },
  {
   "cell_type": "code",
   "execution_count": 177,
   "metadata": {},
   "outputs": [
    {
     "name": "stdout",
     "output_type": "stream",
     "text": [
      "Function     Ready?\n",
      "-----------  --------\n",
      "CN_clean     Done\n",
      "CN_np        Done\n",
      "CN_jit       Done\n",
      "CN_jit_fm    Done\n",
      "CN_jit_p     Done\n",
      "CN_jit_p_fm  Done\n"
     ]
    }
   ],
   "source": [
    "# compile with trivial input\n",
    "v = np.random.random((10,2))\n",
    "output = []\n",
    "for i in range(len(CN_funs)):\n",
    "    CN_funs[i](v)\n",
    "    output.append( [ CN_funs[i].__name__ , \"Done\" ])\n",
    "print(tabulate(output, headers=[\"Function\",\"Ready?\"]))"
   ]
  },
  {
   "cell_type": "code",
   "execution_count": 207,
   "metadata": {},
   "outputs": [
    {
     "name": "stdout",
     "output_type": "stream",
     "text": [
      "Easy input | shape: 100,20\n",
      "Function     Timing\n",
      "-----------  -------------------------------------------------------------------------\n",
      "CN_clean     761 µs ± 63.1 µs per loop (mean ± std. dev. of 7 runs, 1000 loops each)\n",
      "CN_np        590 µs ± 33.2 µs per loop (mean ± std. dev. of 7 runs, 1000 loops each)\n",
      "CN_jit       44 µs ± 2.97 µs per loop (mean ± std. dev. of 7 runs, 10000 loops each)\n",
      "CN_jit_fm    46.3 µs ± 2.68 µs per loop (mean ± std. dev. of 7 runs, 10000 loops each)\n",
      "CN_jit_p     79.3 µs ± 3.28 µs per loop (mean ± std. dev. of 7 runs, 10000 loops each)\n",
      "CN_jit_p_fm  77 µs ± 1.34 µs per loop (mean ± std. dev. of 7 runs, 10000 loops each)\n"
     ]
    }
   ],
   "source": [
    "# compute with easy input\n",
    "print(\"Easy input | shape: 100,20\")\n",
    "v = np.random.random((100,20))\n",
    "output = []\n",
    "for i in range(len(CN_funs)):\n",
    "    t = %timeit -q -o CN_funs[i](v)\n",
    "    output.append( [ CN_funs[i].__name__ , str(t) ])\n",
    "print(tabulate(output, headers=[\"Function\",\"Timing\"]))"
   ]
  },
  {
   "cell_type": "code",
   "execution_count": 208,
   "metadata": {},
   "outputs": [
    {
     "name": "stdout",
     "output_type": "stream",
     "text": [
      "Medium input | shape: 5000,100\n",
      "Function     Timing\n",
      "-----------  ----------------------------------------------------------------------\n",
      "CN_clean     33.5 ms ± 1.75 ms per loop (mean ± std. dev. of 7 runs, 10 loops each)\n",
      "CN_np        30 ms ± 1.93 ms per loop (mean ± std. dev. of 7 runs, 10 loops each)\n",
      "CN_jit       3.77 ms ± 224 µs per loop (mean ± std. dev. of 7 runs, 100 loops each)\n",
      "CN_jit_fm    3.4 ms ± 121 µs per loop (mean ± std. dev. of 7 runs, 100 loops each)\n",
      "CN_jit_p     3.49 ms ± 112 µs per loop (mean ± std. dev. of 7 runs, 100 loops each)\n",
      "CN_jit_p_fm  3.54 ms ± 114 µs per loop (mean ± std. dev. of 7 runs, 100 loops each)\n"
     ]
    }
   ],
   "source": [
    "# compute with medium input\n",
    "print(\"Medium input | shape: 5000,100\")\n",
    "v = np.random.random((5000,100))\n",
    "output = []\n",
    "for i in range(len(CN_funs)):\n",
    "    t = %timeit -q -o CN_funs[i](v)\n",
    "    output.append( [ CN_funs[i].__name__ , str(t) ])\n",
    "print(tabulate(output, headers=[\"Function\",\"Timing\"]))"
   ]
  },
  {
   "cell_type": "code",
   "execution_count": 206,
   "metadata": {},
   "outputs": [
    {
     "name": "stdout",
     "output_type": "stream",
     "text": [
      "Hard input | shape: 20000,1000\n",
      "Function     Timing\n",
      "-----------  ---------------------------------------------------------------------\n",
      "CN_clean     248 ms ± 10.3 ms per loop (mean ± std. dev. of 7 runs, 1 loop each)\n",
      "CN_np        222 ms ± 9.65 ms per loop (mean ± std. dev. of 7 runs, 1 loop each)\n",
      "CN_jit       120 ms ± 2.19 ms per loop (mean ± std. dev. of 7 runs, 10 loops each)\n",
      "CN_jit_fm    113 ms ± 3.2 ms per loop (mean ± std. dev. of 7 runs, 10 loops each)\n",
      "CN_jit_p     112 ms ± 6.55 ms per loop (mean ± std. dev. of 7 runs, 10 loops each)\n",
      "CN_jit_p_fm  115 ms ± 8.55 ms per loop (mean ± std. dev. of 7 runs, 10 loops each)\n"
     ]
    }
   ],
   "source": [
    "# compute with hard input\n",
    "print(\"Hard input | shape: 20000,1000\")\n",
    "v = np.random.random((20000,1000))\n",
    "output = []\n",
    "for i in range(len(CN_funs)):\n",
    "    t = %timeit -q -o CN_funs[i](v)\n",
    "    output.append( [ CN_funs[i].__name__ , str(t) ])\n",
    "print(tabulate(output, headers=[\"Function\",\"Timing\"]))"
   ]
  },
  {
   "cell_type": "markdown",
   "metadata": {},
   "source": [
    "## FCI"
   ]
  },
  {
   "cell_type": "code",
   "execution_count": 102,
   "metadata": {},
   "outputs": [],
   "source": [
    "@njit\n",
    "def FCI(dataset):\n",
    "    \"\"\"\n",
    "    Compute the full correlation integral of a **dataset** of N d-dimensional points by exact enumeration\n",
    "\n",
    "    :param dataset: vector of shape (N,d)\n",
    "    :returns: vector of shape (N(N-1)/2,2)\n",
    "    \"\"\"\n",
    "    rs = np.empty(0)\n",
    "    n = len(dataset)\n",
    "    for i in range(n):\n",
    "        for j in range(i+1,n):\n",
    "            r = np.linalg.norm(dataset[i]-dataset[j])\n",
    "            rs = np.append(rs, r)\n",
    "    return np.transpose( [ np.sort(rs) , np.linspace(0,1,num=int(n*(n-1)/2)) ] )"
   ]
  },
  {
   "cell_type": "code",
   "execution_count": 209,
   "metadata": {},
   "outputs": [],
   "source": [
    "def FCI_clean(dataset):\n",
    "    n = len(dataset)\n",
    "    m = int(n*(n-1)/2)\n",
    "    rs = np.empty(m)\n",
    "    c = 0\n",
    "    for i in range(n):\n",
    "        for j in range(i+1,n):\n",
    "            rs[c] = np.linalg.norm(dataset[i]-dataset[j])\n",
    "            c += 1\n",
    "    rs = np.sort(rs)\n",
    "    r = np.empty((m,2))\n",
    "    for i in range(m):\n",
    "        r[i] = np.array([ rs[i] , i*1./m ])\n",
    "    return r\n",
    "\n",
    "def FCI_np(dataset):\n",
    "    rs = np.empty(0)\n",
    "    n = len(dataset)\n",
    "    for i in range(n):\n",
    "        for j in range(i+1,n):\n",
    "            r = np.linalg.norm(dataset[i]-dataset[j])\n",
    "            rs = np.append(rs, r)\n",
    "    return np.transpose( [ np.sort(rs) , np.linspace(0,1,num=int(n*(n-1)/2)) ] )\n",
    "   \n",
    "@njit(parallel=False)\n",
    "def FCI_jit(dataset):\n",
    "    n = len(dataset)\n",
    "    m = int(n*(n-1)/2)\n",
    "    rs = np.empty(m)\n",
    "    c = 0\n",
    "    for i in prange(n):\n",
    "        for j in prange(i+1,n):\n",
    "            rs[c] = np.linalg.norm(dataset[i]-dataset[j])\n",
    "            c += 1\n",
    "    rs = np.sort(rs)\n",
    "    r = np.empty((m,2))\n",
    "    for i in prange(m):\n",
    "        r[i] = np.array([ rs[i] , i*1./m ])\n",
    "    return r\n",
    "\n",
    "@njit(parallel=False,fastmath=True)\n",
    "def FCI_jit_fm(dataset):\n",
    "    n = len(dataset)\n",
    "    m = int(n*(n-1)/2)\n",
    "    rs = np.empty(m)\n",
    "    c = 0\n",
    "    for i in prange(n):\n",
    "        for j in prange(i+1,n):\n",
    "            rs[c] = np.linalg.norm(dataset[i]-dataset[j])\n",
    "            c += 1\n",
    "    rs = np.sort(rs)\n",
    "    r = np.empty((m,2))\n",
    "    for i in prange(m):\n",
    "        r[i] = np.array([ rs[i] , i*1./m ])\n",
    "    return r\n",
    "\n",
    "@njit(parallel=True)\n",
    "def FCI_jit_p(dataset):\n",
    "    n = len(dataset)\n",
    "    m = int(n*(n-1)/2)\n",
    "    rs = np.empty(m)\n",
    "    c = 0\n",
    "    for i in prange(n):\n",
    "        for j in prange(i+1,n):\n",
    "            rs[c] = np.linalg.norm(dataset[i]-dataset[j])\n",
    "            c += 1\n",
    "    rs = np.sort(rs)\n",
    "    r = np.empty((m,2))\n",
    "    for i in prange(m):\n",
    "        r[i] = np.array([ rs[i] , i*1./m ])\n",
    "    return r\n",
    "\n",
    "@njit(parallel=True,fastmath = True)\n",
    "def FCI_jit_p_fm(dataset):\n",
    "    n = len(dataset)\n",
    "    m = int(n*(n-1)/2)\n",
    "    rs = np.empty(m)\n",
    "    c = 0\n",
    "    for i in prange(n):\n",
    "        for j in prange(i+1,n):\n",
    "            rs[c] = np.linalg.norm(dataset[i]-dataset[j])\n",
    "            c += 1\n",
    "    rs = np.sort(rs)\n",
    "    r = np.empty((m,2))\n",
    "    for i in prange(m):\n",
    "        r[i] = np.array([ rs[i] , i*1./m ])\n",
    "    return r\n",
    "\n",
    "FCI_funs = [FCI_clean,FCI_np,FCI_jit,FCI_jit_fm,FCI_jit_p,FCI_jit_p_fm]"
   ]
  },
  {
   "cell_type": "code",
   "execution_count": 212,
   "metadata": {},
   "outputs": [
    {
     "name": "stdout",
     "output_type": "stream",
     "text": [
      "Function      Ready?\n",
      "------------  --------\n",
      "FCI_clean     Done\n",
      "FCI_np        Done\n",
      "FCI_jit       Done\n",
      "FCI_jit_fm    Done\n",
      "FCI_jit_p     Done\n",
      "FCI_jit_p_fm  Done\n"
     ]
    }
   ],
   "source": [
    "# compile with trivial input\n",
    "v = np.random.random((10,2))\n",
    "output = []\n",
    "for i in range(len(FCI_funs)):\n",
    "    FCI_funs[i](v)\n",
    "    output.append( [ FCI_funs[i].__name__ , \"Done\" ])\n",
    "print(tabulate(output, headers=[\"Function\",\"Ready?\"]))"
   ]
  },
  {
   "cell_type": "code",
   "execution_count": 213,
   "metadata": {},
   "outputs": [
    {
     "name": "stdout",
     "output_type": "stream",
     "text": [
      "Easy input | shape: 100,20\n",
      "Function      Timing\n",
      "------------  -----------------------------------------------------------------------\n",
      "FCI_clean     32.9 ms ± 1.69 ms per loop (mean ± std. dev. of 7 runs, 10 loops each)\n",
      "FCI_np        60.9 ms ± 3.53 ms per loop (mean ± std. dev. of 7 runs, 10 loops each)\n",
      "FCI_jit       2.39 ms ± 149 µs per loop (mean ± std. dev. of 7 runs, 100 loops each)\n",
      "FCI_jit_fm    2.43 ms ± 127 µs per loop (mean ± std. dev. of 7 runs, 100 loops each)\n",
      "FCI_jit_p     3.96 ms ± 32 µs per loop (mean ± std. dev. of 7 runs, 100 loops each)\n",
      "FCI_jit_p_fm  3.95 ms ± 33.9 µs per loop (mean ± std. dev. of 7 runs, 100 loops each)\n"
     ]
    }
   ],
   "source": [
    "# compute with easy input\n",
    "print(\"Easy input | shape: 100,20\")\n",
    "v = np.random.random((100,20))\n",
    "output = []\n",
    "for i in range(len(FCI_funs)):\n",
    "    t = %timeit -q -o FCI_funs[i](v)\n",
    "    output.append( [ FCI_funs[i].__name__ , str(t) ])\n",
    "print(tabulate(output, headers=[\"Function\",\"Timing\"]))"
   ]
  },
  {
   "cell_type": "code",
   "execution_count": 215,
   "metadata": {},
   "outputs": [
    {
     "name": "stdout",
     "output_type": "stream",
     "text": [
      "Medium input | shape: 1000,100\n",
      "Function      Timing\n",
      "------------  -------------------------------------------------------------------\n",
      "FCI_clean     3.5 s ± 115 ms per loop (mean ± std. dev. of 7 runs, 1 loop each)\n",
      "FCI_np        44.7 s ± 2.01 s per loop (mean ± std. dev. of 7 runs, 1 loop each)\n",
      "FCI_jit       246 ms ± 11.2 ms per loop (mean ± std. dev. of 7 runs, 1 loop each)\n",
      "FCI_jit_fm    248 ms ± 9.09 ms per loop (mean ± std. dev. of 7 runs, 1 loop each)\n",
      "FCI_jit_p     380 ms ± 5.55 ms per loop (mean ± std. dev. of 7 runs, 1 loop each)\n",
      "FCI_jit_p_fm  370 ms ± 7.08 ms per loop (mean ± std. dev. of 7 runs, 1 loop each)\n"
     ]
    }
   ],
   "source": [
    "# compute with medium input\n",
    "print(\"Medium input | shape: 1000,100\")\n",
    "v = np.random.random((1000,100))\n",
    "output = []\n",
    "for i in range(len(FCI_funs)):\n",
    "    t = %timeit -q -o FCI_funs[i](v)\n",
    "    output.append( [ FCI_funs[i].__name__ , str(t) ])\n",
    "print(tabulate(output, headers=[\"Function\",\"Timing\"]))"
   ]
  },
  {
   "cell_type": "code",
   "execution_count": 216,
   "metadata": {},
   "outputs": [
    {
     "name": "stdout",
     "output_type": "stream",
     "text": [
      "Hard input | shape: 5000,500\n",
      "Function      Timing\n",
      "------------  --------------------------------------------------------------------\n",
      "FCI_clean     1min 34s ± 3.07 s per loop (mean ± std. dev. of 7 runs, 1 loop each)\n",
      "FCI_jit       10.8 s ± 472 ms per loop (mean ± std. dev. of 7 runs, 1 loop each)\n",
      "FCI_jit_fm    11.9 s ± 443 ms per loop (mean ± std. dev. of 7 runs, 1 loop each)\n",
      "FCI_jit_p     11.6 s ± 277 ms per loop (mean ± std. dev. of 7 runs, 1 loop each)\n",
      "FCI_jit_p_fm  11.7 s ± 246 ms per loop (mean ± std. dev. of 7 runs, 1 loop each)\n"
     ]
    }
   ],
   "source": [
    "# compute with hard input\n",
    "# AVOID FCI_np\n",
    "print(\"Hard input | shape: 5000,500\")\n",
    "v = np.random.random((5000,500))\n",
    "output = []\n",
    "for i in range(len(FCI_funs)):\n",
    "    if i!=1:\n",
    "        t = %timeit -q -o FCI_funs[i](v)\n",
    "        output.append( [ FCI_funs[i].__name__ , str(t) ])\n",
    "print(tabulate(output, headers=[\"Function\",\"Timing\"]))"
   ]
  },
  {
   "cell_type": "markdown",
   "metadata": {},
   "source": [
    "## FCI_MC"
   ]
  },
  {
   "cell_type": "code",
   "execution_count": 218,
   "metadata": {},
   "outputs": [],
   "source": [
    "def FCI_MC(dataset,samples=500):\n",
    "    \"\"\"\n",
    "    Compute the full correlation integral of a **dataset** of N d-dimensional points by random sampling of **samples** pair of points\n",
    "\n",
    "    :param dataset: vector of shape (N,d)\n",
    "    :param samples: positive integer\n",
    "    :returns: vector of shape (N(N-1)/2,2)\n",
    "    \"\"\"\n",
    "    samples = int(min( len(dataset)*( len(dataset)-1 )/2, samples ))\n",
    "    rs = np.empty(0)\n",
    "    n = len(dataset)\n",
    "    for k in range(samples):\n",
    "        i = np.random.randint(0,n)\n",
    "        j = np.random.randint(0,n)\n",
    "        r = np.linalg.norm(dataset[i]-dataset[j])\n",
    "        rs = np.append(rs, r)\n",
    "\n",
    "    return np.transpose( [ np.sort(rs) , np.linspace(0,1,num=int(samples)) ] )"
   ]
  },
  {
   "cell_type": "code",
   "execution_count": 219,
   "metadata": {},
   "outputs": [],
   "source": [
    "def FCI_MC_clean(dataset,samples=500):\n",
    "    n = len(dataset)\n",
    "    m = int(n*(n-1)/2)\n",
    "    samples = min( m, samples )\n",
    "    rs = np.empty(samples)\n",
    "    \n",
    "    for k in range(samples):\n",
    "        i = np.random.randint(0,n)\n",
    "        j = np.random.randint(0,n)\n",
    "        rs[k] = np.linalg.norm(dataset[i]-dataset[j])\n",
    "    rs = np.sort(rs)\n",
    "    \n",
    "    r = np.empty((samples,2))\n",
    "    for i in range(samples):\n",
    "        r[i] = np.array([ rs[i] , i*1./m ])\n",
    "    return r\n",
    "\n",
    "def FCI_MC_np(dataset,samples=500):\n",
    "    samples = int(min( len(dataset)*( len(dataset)-1 )/2, samples ))\n",
    "    rs = np.empty(0)\n",
    "    n = len(dataset)\n",
    "    for k in range(samples):\n",
    "        i = np.random.randint(0,n)\n",
    "        j = np.random.randint(0,n)\n",
    "        r = np.linalg.norm(dataset[i]-dataset[j])\n",
    "        rs = np.append(rs, r)\n",
    "\n",
    "    return np.transpose( [ np.sort(rs) , np.linspace(0,1,num=int(samples)) ] )\n",
    "\n",
    "@njit(parallel=False)\n",
    "def FCI_MC_jit(dataset,samples=500):\n",
    "    n = len(dataset)\n",
    "    m = int(n*(n-1)/2)\n",
    "    samples = min( m, samples )\n",
    "    rs = np.empty(samples)\n",
    "    \n",
    "    for k in prange(samples):\n",
    "        i = np.random.randint(0,n)\n",
    "        j = np.random.randint(0,n)\n",
    "        rs[k] = np.linalg.norm(dataset[i]-dataset[j])\n",
    "    rs = np.sort(rs)\n",
    "    \n",
    "    r = np.empty((samples,2))\n",
    "    for i in prange(samples):\n",
    "        r[i] = np.array([ rs[i] , i*1./m ])\n",
    "    return r\n",
    "    \n",
    "@njit(parallel=False,fastmath=True)\n",
    "def FCI_MC_jit_fm(dataset,samples=500):\n",
    "    n = len(dataset)\n",
    "    m = int(n*(n-1)/2)\n",
    "    samples = min( m, samples )\n",
    "    rs = np.empty(samples)\n",
    "    \n",
    "    for k in prange(samples):\n",
    "        i = np.random.randint(0,n)\n",
    "        j = np.random.randint(0,n)\n",
    "        rs[k] = np.linalg.norm(dataset[i]-dataset[j])\n",
    "    rs = np.sort(rs)\n",
    "    \n",
    "    r = np.empty((samples,2))\n",
    "    for i in prange(samples):\n",
    "        r[i] = np.array([ rs[i] , i*1./m ])\n",
    "    return r\n",
    "\n",
    "@njit(parallel=True)\n",
    "def FCI_MC_jit_p(dataset,samples=500):\n",
    "    n = len(dataset)\n",
    "    m = int(n*(n-1)/2)\n",
    "    samples = min( m, samples )\n",
    "    rs = np.empty(samples)\n",
    "    \n",
    "    for k in prange(samples):\n",
    "        i = np.random.randint(0,n)\n",
    "        j = np.random.randint(0,n)\n",
    "        rs[k] = np.linalg.norm(dataset[i]-dataset[j])\n",
    "    rs = np.sort(rs)\n",
    "    \n",
    "    r = np.empty((samples,2))\n",
    "    for i in prange(samples):\n",
    "        r[i] = np.array([ rs[i] , i*1./m ])\n",
    "    return r\n",
    "\n",
    "@njit(parallel=True,fastmath = True)\n",
    "def FCI_MC_jit_p_fm(dataset,samples=500):\n",
    "    n = len(dataset)\n",
    "    m = int(n*(n-1)/2)\n",
    "    samples = min( m, samples )\n",
    "    rs = np.empty(samples)\n",
    "    \n",
    "    for k in prange(samples):\n",
    "        i = np.random.randint(0,n)\n",
    "        j = np.random.randint(0,n)\n",
    "        rs[k] = np.linalg.norm(dataset[i]-dataset[j])\n",
    "    rs = np.sort(rs)\n",
    "    \n",
    "    r = np.empty((samples,2))\n",
    "    for i in prange(samples):\n",
    "        r[i] = np.array([ rs[i] , i*1./m ])\n",
    "    return r\n",
    "\n",
    "FCI_MC_funs = [FCI_MC_clean,FCI_MC_np,FCI_MC_jit,FCI_MC_jit_fm,FCI_MC_jit_p,FCI_MC_jit_p_fm]"
   ]
  },
  {
   "cell_type": "code",
   "execution_count": 220,
   "metadata": {},
   "outputs": [
    {
     "name": "stdout",
     "output_type": "stream",
     "text": [
      "Function         Ready?\n",
      "---------------  --------\n",
      "FCI_MC_clean     Done\n",
      "FCI_MC_np        Done\n",
      "FCI_MC_jit       Done\n",
      "FCI_MC_jit_fm    Done\n",
      "FCI_MC_jit_p     Done\n",
      "FCI_MC_jit_p_fm  Done\n"
     ]
    }
   ],
   "source": [
    "# compile with trivial input\n",
    "v = np.random.random((10,2))\n",
    "output = []\n",
    "for i in range(len(FCI_MC_funs)):\n",
    "    FCI_MC_funs[i](v)\n",
    "    output.append( [ FCI_MC_funs[i].__name__ , \"Done\" ])\n",
    "print(tabulate(output, headers=[\"Function\",\"Ready?\"]))"
   ]
  },
  {
   "cell_type": "code",
   "execution_count": 223,
   "metadata": {},
   "outputs": [
    {
     "name": "stdout",
     "output_type": "stream",
     "text": [
      "Easy input | shape: 10000,500 | samples: 500\n",
      "Function         Timing\n",
      "---------------  ----------------------------------------------------------------------\n",
      "FCI_MC_clean     11.2 ms ± 633 µs per loop (mean ± std. dev. of 7 runs, 100 loops each)\n",
      "FCI_MC_np        14 ms ± 530 µs per loop (mean ± std. dev. of 7 runs, 100 loops each)\n",
      "FCI_MC_jit       611 µs ± 26.1 µs per loop (mean ± std. dev. of 7 runs, 1 loop each)\n",
      "FCI_MC_jit_fm    619 µs ± 31.1 µs per loop (mean ± std. dev. of 7 runs, 1 loop each)\n",
      "FCI_MC_jit_p     440 µs ± 30.2 µs per loop (mean ± std. dev. of 7 runs, 1 loop each)\n",
      "FCI_MC_jit_p_fm  524 µs ± 36.7 µs per loop (mean ± std. dev. of 7 runs, 1 loop each)\n"
     ]
    }
   ],
   "source": [
    "# compute with easy input\n",
    "print(\"Easy input | shape: 10000,500 | samples: 500\")\n",
    "v = np.random.random((10000,500))\n",
    "output = []\n",
    "for i in range(len(FCI_MC_funs)):\n",
    "    t = %timeit -q -o FCI_MC_funs[i](v,500)\n",
    "    output.append( [ FCI_MC_funs[i].__name__ , str(t) ])\n",
    "print(tabulate(output, headers=[\"Function\",\"Timing\"]))"
   ]
  },
  {
   "cell_type": "code",
   "execution_count": 224,
   "metadata": {},
   "outputs": [
    {
     "name": "stdout",
     "output_type": "stream",
     "text": [
      "Medium input | shape: 10000,500 | samples: 5000\n",
      "Function         Timing\n",
      "---------------  -----------------------------------------------------------------------\n",
      "FCI_MC_clean     109 ms ± 4.41 ms per loop (mean ± std. dev. of 7 runs, 10 loops each)\n",
      "FCI_MC_np        143 ms ± 3.52 ms per loop (mean ± std. dev. of 7 runs, 10 loops each)\n",
      "FCI_MC_jit       6.68 ms ± 190 µs per loop (mean ± std. dev. of 7 runs, 100 loops each)\n",
      "FCI_MC_jit_fm    7.13 ms ± 168 µs per loop (mean ± std. dev. of 7 runs, 100 loops each)\n",
      "FCI_MC_jit_p     4.21 ms ± 34.8 µs per loop (mean ± std. dev. of 7 runs, 100 loops each)\n",
      "FCI_MC_jit_p_fm  4.2 ms ± 42 µs per loop (mean ± std. dev. of 7 runs, 100 loops each)\n"
     ]
    }
   ],
   "source": [
    "# compute with medium input\n",
    "print(\"Medium input | shape: 10000,500 | samples: 5000\")\n",
    "v = np.random.random((10000,500))\n",
    "output = []\n",
    "for i in range(len(FCI_MC_funs)):\n",
    "    t = %timeit -q -o FCI_MC_funs[i](v,5000)\n",
    "    output.append( [ FCI_MC_funs[i].__name__ , str(t) ])\n",
    "print(tabulate(output, headers=[\"Function\",\"Timing\"]))"
   ]
  },
  {
   "cell_type": "code",
   "execution_count": 226,
   "metadata": {},
   "outputs": [
    {
     "name": "stdout",
     "output_type": "stream",
     "text": [
      "Hard input | shape: 10000,500 | samples: 50000\n",
      "Function         Timing\n",
      "---------------  ----------------------------------------------------------------------\n",
      "FCI_MC_clean     1.16 s ± 87.3 ms per loop (mean ± std. dev. of 7 runs, 1 loop each)\n",
      "FCI_MC_np        1.78 s ± 79.8 ms per loop (mean ± std. dev. of 7 runs, 1 loop each)\n",
      "FCI_MC_jit       68.3 ms ± 2.78 ms per loop (mean ± std. dev. of 7 runs, 10 loops each)\n",
      "FCI_MC_jit_fm    69.5 ms ± 2.73 ms per loop (mean ± std. dev. of 7 runs, 10 loops each)\n",
      "FCI_MC_jit_p     42.1 ms ± 669 µs per loop (mean ± std. dev. of 7 runs, 10 loops each)\n",
      "FCI_MC_jit_p_fm  41.5 ms ± 460 µs per loop (mean ± std. dev. of 7 runs, 10 loops each)\n"
     ]
    }
   ],
   "source": [
    "# compute with hard input\n",
    "print(\"Hard input | shape: 10000,500 | samples: 50000\")\n",
    "v = np.random.random((10000,500))\n",
    "output = []\n",
    "for i in range(len(FCI_MC_funs)):\n",
    "        t = %timeit -q -o FCI_MC_funs[i](v,50000)\n",
    "        output.append( [ FCI_MC_funs[i].__name__ , str(t) ])\n",
    "print(tabulate(output, headers=[\"Function\",\"Timing\"]))"
   ]
  },
  {
   "cell_type": "markdown",
   "metadata": {},
   "source": [
    "## Analytical FCI\n",
    "\n",
    "Seems fine as it is."
   ]
  },
  {
   "cell_type": "code",
   "execution_count": 46,
   "metadata": {},
   "outputs": [],
   "source": [
    "def anFCI_np(x,d,x0=1):\n",
    "    return  0.5 * ( 1 + (scyspc.gamma((1+d)/2)) / (np.sqrt(np.pi) * scyspc.gamma(d/2) ) * (-2+(x/x0)**2) * scyspc.hyp2f1( 0.5, 1-d/2, 3/2, 1/4 * (-2+(x/x0)**2)**2 ) )\n",
    "\n",
    "@jit(forceobj=True)\n",
    "def anFCI_jit(x,d,x0=1):\n",
    "    return  0.5 * ( 1 + (scyspc.gamma((1+d)/2)) / (np.sqrt(np.pi) * scyspc.gamma(d/2) ) * (-2+(x/x0)**2) * scyspc.hyp2f1( 0.5, 1-d/2, 3/2, 1/4 * (-2+(x/x0)**2)**2 ) )\n",
    "\n",
    "@jit(forceobj=True,fastmath=True)\n",
    "def anFCI_jit_fm(x,d,x0=1):\n",
    "    return  0.5 * ( 1 + (scyspc.gamma((1+d)/2)) / (np.sqrt(np.pi) * scyspc.gamma(d/2) ) * (-2+(x/x0)**2) * scyspc.hyp2f1( 0.5, 1-d/2, 3/2, 1/4 * (-2+(x/x0)**2)**2 ) )\n",
    "\n",
    "\n",
    "anFCI_funs = [anFCI_np,anFCI_jit,anFCI_jit_fm]"
   ]
  },
  {
   "cell_type": "code",
   "execution_count": 47,
   "metadata": {},
   "outputs": [
    {
     "name": "stdout",
     "output_type": "stream",
     "text": [
      "Hard input | shape: 100000 | d: 5\n",
      "Function      Timing\n",
      "------------  -------------------------------------------------------------------\n",
      "anFCI_np      279 ms ± 2.35 ms per loop (mean ± std. dev. of 7 runs, 1 loop each)\n",
      "anFCI_jit     286 ms ± 3.76 ms per loop (mean ± std. dev. of 7 runs, 1 loop each)\n",
      "anFCI_jit_fm  302 ms ± 16 ms per loop (mean ± std. dev. of 7 runs, 1 loop each)\n"
     ]
    }
   ],
   "source": [
    "# compute with hard input\n",
    "print(\"Hard input | shape: 100000 | d: 5\")\n",
    "v = np.random.random((100000))\n",
    "output = []\n",
    "for i in range(len(anFCI_funs)):\n",
    "    t = %timeit -q -o anFCI_funs[i](v,5)\n",
    "    output.append( [ anFCI_funs[i].__name__ , str(t) ])\n",
    "print(tabulate(output, headers=[\"Function\",\"Timing\"]))"
   ]
  },
  {
   "cell_type": "code",
   "execution_count": 48,
   "metadata": {},
   "outputs": [
    {
     "name": "stdout",
     "output_type": "stream",
     "text": [
      "Hard input | shape: 100000 | d: 50\n",
      "Function      Timing\n",
      "------------  ---------------------------------------------------------------------\n",
      "anFCI_np      23.2 ms ± 138 µs per loop (mean ± std. dev. of 7 runs, 10 loops each)\n",
      "anFCI_jit     24.8 ms ± 1.4 ms per loop (mean ± std. dev. of 7 runs, 10 loops each)\n",
      "anFCI_jit_fm  23.6 ms ± 670 µs per loop (mean ± std. dev. of 7 runs, 10 loops each)\n"
     ]
    }
   ],
   "source": [
    "# compute with hard input\n",
    "print(\"Hard input | shape: 100000 | d: 50\")\n",
    "v = np.random.random((100000))\n",
    "output = []\n",
    "for i in range(len(anFCI_funs)):\n",
    "    t = %timeit -q -o anFCI_funs[i](v,50)\n",
    "    output.append( [ anFCI_funs[i].__name__ , str(t) ])\n",
    "print(tabulate(output, headers=[\"Function\",\"Timing\"]))"
   ]
  },
  {
   "cell_type": "markdown",
   "metadata": {},
   "source": [
    "I'm jitting this because I think that it may compromise the parallelization of local functions later!"
   ]
  },
  {
   "cell_type": "markdown",
   "metadata": {},
   "source": [
    "## fit_FCI\n",
    "\n",
    "I think it's pointless to try jitting this one, as it calls scipy.optimize.curve_fit and then it just performs a mean square error computation."
   ]
  },
  {
   "cell_type": "code",
   "execution_count": 16,
   "metadata": {},
   "outputs": [],
   "source": [
    "def fit_FCI(rho, samples=500, threshold=0.1):\n",
    "    samples = min( len(rho),samples )\n",
    "    data = rho[np.random.choice(len(rho),samples)]\n",
    "\n",
    "    fit = scyopt.curve_fit( pyfci.analytical_FCI, data[:,0], data[:,1] )\n",
    "    if abs(fit[0][1] - 1)>threshold:\n",
    "        return [0,0,0]\n",
    "    else:\n",
    "        mse = np.sqrt(np.mean([ (pt[1] - pyfci.analytical_FCI(pt[0],fit[0][0],fit[0][1]))**2 for pt in data ]))\n",
    "        return [fit[0][0]+1,fit[0][1],mse]\n",
    "\n",
    "@jit(forceobj=True,fastmath=False)\n",
    "def fit_FCI_jit(rho, samples=500, threshold=0.1):\n",
    "    samples = min( len(rho),samples )\n",
    "    data = rho[np.random.choice(len(rho),samples)]\n",
    "\n",
    "    fit = scyopt.curve_fit( pyfci.analytical_FCI, data[:,0], data[:,1] )\n",
    "    if abs(fit[0][1] - 1)>threshold:\n",
    "        return [0,0,0]\n",
    "    else:\n",
    "        mse = np.sqrt(np.mean([ (pt[1] - pyfci.analytical_FCI(pt[0],fit[0][0],fit[0][1]))**2 for pt in data ]))\n",
    "        return [fit[0][0]+1,fit[0][1],mse]\n",
    "    \n",
    "@jit(forceobj=True,fastmath=True)\n",
    "def fit_FCI_jit_fm(rho, samples=500, threshold=0.1):\n",
    "    samples = min( len(rho),samples )\n",
    "    data = rho[np.random.choice(len(rho),samples)]\n",
    "\n",
    "    fit = scyopt.curve_fit( pyfci.analytical_FCI, data[:,0], data[:,1] )\n",
    "    if abs(fit[0][1] - 1)>threshold:\n",
    "        return [0,0,0]\n",
    "    else:\n",
    "        mse = np.sqrt(np.mean([ (pt[1] - pyfci.analytical_FCI(pt[0],fit[0][0],fit[0][1]))**2 for pt in data ]))\n",
    "        return [fit[0][0]+1,fit[0][1],mse]\n",
    "\n",
    "fit_FCI_funs = [fit_FCI,fit_FCI_jit,fit_FCI_jit_fm]"
   ]
  },
  {
   "cell_type": "code",
   "execution_count": 3,
   "metadata": {},
   "outputs": [
    {
     "name": "stdout",
     "output_type": "stream",
     "text": [
      "Function        Ready?\n",
      "--------------  --------\n",
      "fit_FCI         Done\n",
      "fit_FCI_jit     Done\n",
      "fit_FCI_jit_fm  Done\n"
     ]
    }
   ],
   "source": [
    "# compile with trivial input\n",
    "v = pyfci.FCI_MC(pyfci.center_and_normalize(np.random.random((10,2))))\n",
    "output = []\n",
    "for i in range(len(fit_FCI_funs)):\n",
    "    fit_FCI_funs[i](v)\n",
    "    output.append( [ fit_FCI_funs[i].__name__ , \"Done\" ])\n",
    "print(tabulate(output, headers=[\"Function\",\"Ready?\"]))"
   ]
  },
  {
   "cell_type": "code",
   "execution_count": 43,
   "metadata": {},
   "outputs": [
    {
     "name": "stdout",
     "output_type": "stream",
     "text": [
      "Easy input | shape: 100,5 | samples: 500\n",
      "Function        Timing\n",
      "--------------  ----------------------------------------------------------------------\n",
      "fit_FCI         16.8 ms ± 564 µs per loop (mean ± std. dev. of 7 runs, 100 loops each)\n",
      "fit_FCI_jit     17.1 ms ± 535 µs per loop (mean ± std. dev. of 7 runs, 1 loop each)\n",
      "fit_FCI_jit_fm  16.2 ms ± 430 µs per loop (mean ± std. dev. of 7 runs, 1 loop each)\n"
     ]
    }
   ],
   "source": [
    "# compute with easy input\n",
    "print(\"Easy input | shape: 100,5 | samples: 500\")\n",
    "v = pyfci.FCI_MC(pyfci.center_and_normalize(np.random.random((100,5))))\n",
    "output = []\n",
    "for i in range(len(fit_FCI_funs)):\n",
    "    t = %timeit -q -o fit_FCI_funs[i](v,500)\n",
    "    output.append( [ fit_FCI_funs[i].__name__ , str(t) ])\n",
    "print(tabulate(output, headers=[\"Function\",\"Timing\"]))"
   ]
  },
  {
   "cell_type": "code",
   "execution_count": 44,
   "metadata": {},
   "outputs": [
    {
     "name": "stdout",
     "output_type": "stream",
     "text": [
      "Hard input | shape: 1000,50 | samples: 5000\n",
      "Function        Timing\n",
      "--------------  ----------------------------------------------------------------------\n",
      "fit_FCI         19.4 ms ± 828 µs per loop (mean ± std. dev. of 7 runs, 10 loops each)\n",
      "fit_FCI_jit     19.9 ms ± 968 µs per loop (mean ± std. dev. of 7 runs, 100 loops each)\n",
      "fit_FCI_jit_fm  20.1 ms ± 482 µs per loop (mean ± std. dev. of 7 runs, 100 loops each)\n"
     ]
    }
   ],
   "source": [
    "# compute with hard input\n",
    "print(\"Hard input | shape: 1000,50 | samples: 5000\")\n",
    "v = pyfci.FCI_MC(pyfci.center_and_normalize(np.random.random((1000,50))))\n",
    "output = []\n",
    "for i in range(len(fit_FCI_funs)):\n",
    "    t = %timeit -q -o fit_FCI_funs[i](v,500)\n",
    "    output.append( [ fit_FCI_funs[i].__name__ , str(t) ])\n",
    "print(tabulate(output, headers=[\"Function\",\"Timing\"]))"
   ]
  },
  {
   "cell_type": "markdown",
   "metadata": {},
   "source": [
    "I'm jitting this because I think that it may compromise the parallelization of local functions later!"
   ]
  },
  {
   "cell_type": "markdown",
   "metadata": {},
   "source": [
    "## local_FCI\n",
    "\n",
    "May benefit from jitting, if the call to an external function does not ruin everything."
   ]
  },
  {
   "cell_type": "code",
   "execution_count": 52,
   "metadata": {},
   "outputs": [],
   "source": [
    "def local_FCI_np(dataset, center, ks):\n",
    "    neighbours = dataset[np.argsort(np.linalg.norm( dataset - dataset[center], axis=1))[0:ks[-1]]]    \n",
    "  \n",
    "    local = np.empty(shape=(0,5))\n",
    "    for k in ks:\n",
    "        fit = fit_FCI_jit_fm(pyfci.FCI_MC(pyfci.center_and_normalize( neighbours[0:k] ) ))\n",
    "        local = np.append(local, [[ k, np.linalg.norm( neighbours[k-1] - neighbours[0] ), fit[0], fit[1], fit[2] ]], axis=0 )\n",
    "\n",
    "    return local\n",
    "\n",
    "def local_FCI_cl(dataset, center, ks):\n",
    "    \n",
    "    n = len(dataset)\n",
    "    dists = np.empty(n) \n",
    "    for i in range(n):\n",
    "        dists[i] = np.linalg.norm( dataset[i] - dataset[center])\n",
    "    neighbours = dataset[np.argsort(dists)[0:ks[-1]]]    \n",
    "  \n",
    "    local = np.empty(shape=(len(ks),5))\n",
    "    for i in range(len(ks)):\n",
    "        k = ks[i]\n",
    "        fit = fit_FCI_jit_fm( pyfci.FCI_MC( pyfci.center_and_normalize( neighbours[0:k] ) ) )\n",
    "        local[i] = [ k, np.linalg.norm( neighbours[k-1] - neighbours[0] ), fit[0], fit[1], fit[2] ]\n",
    "\n",
    "    return local\n",
    "\n",
    "@jit(forceobj=True)\n",
    "def local_FCI_jit(dataset, center, ks):\n",
    "    \n",
    "    n = len(dataset)\n",
    "    dists = np.empty(n) \n",
    "    for i in range(n):\n",
    "        dists[i] = np.linalg.norm( dataset[i] - dataset[center])\n",
    "    neighbours = dataset[np.argsort(dists)[0:ks[-1]]]    \n",
    "  \n",
    "    local = np.empty(shape=(len(ks),5))\n",
    "    for i in prange(len(ks)):\n",
    "        k = ks[i]\n",
    "        fit = fit_FCI_jit_fm( pyfci.FCI_MC( pyfci.center_and_normalize( neighbours[0:k] ) ) )\n",
    "        local[i] = [ k, np.linalg.norm( neighbours[k-1] - neighbours[0] ), fit[0], fit[1], fit[2] ]\n",
    "\n",
    "    return local\n",
    "\n",
    "@jit(forceobj=True,fastmath=True)\n",
    "def local_FCI_jit_fm(dataset, center, ks):\n",
    "    \n",
    "    n = len(dataset)\n",
    "    dists = np.empty(n) \n",
    "    for i in range(n):\n",
    "        dists[i] = np.linalg.norm( dataset[i] - dataset[center])\n",
    "    neighbours = dataset[np.argsort(dists)[0:ks[-1]]]    \n",
    "  \n",
    "    local = np.empty(shape=(len(ks),5))\n",
    "    for i in prange(len(ks)):\n",
    "        k = ks[i]\n",
    "        fit = fit_FCI_jit_fm( pyfci.FCI_MC( pyfci.center_and_normalize( neighbours[0:k] ) ) )\n",
    "        local[i] = [ k, np.linalg.norm( neighbours[k-1] - neighbours[0] ), fit[0], fit[1], fit[2] ]\n",
    "\n",
    "    return local\n",
    "\n",
    "@jit(forceobj=True,parallel=True,fastmath=False)\n",
    "def local_FCI_jit_p(dataset, center, ks):\n",
    "    \n",
    "    n = len(dataset)\n",
    "    dists = np.empty(n) \n",
    "    for i in range(n):\n",
    "        dists[i] = np.linalg.norm( dataset[i] - dataset[center])\n",
    "    neighbours = dataset[np.argsort(dists)[0:ks[-1]]]    \n",
    "  \n",
    "    local = np.empty(shape=(len(ks),5))\n",
    "    for i in prange(len(ks)):\n",
    "        k = ks[i]\n",
    "        fit = fit_FCI_jit_fm( pyfci.FCI_MC( pyfci.center_and_normalize( neighbours[0:k] ) ) )\n",
    "        local[i] = [ k, np.linalg.norm( neighbours[k-1] - neighbours[0] ), fit[0], fit[1], fit[2] ]\n",
    "\n",
    "    return local\n",
    "\n",
    "@jit(forceobj=True,parallel=True,fastmath=True)\n",
    "def local_FCI_jit_p_fm(dataset, center, ks):\n",
    "    \n",
    "    n = len(dataset)\n",
    "    dists = np.empty(n) \n",
    "    for i in range(n):\n",
    "        dists[i] = np.linalg.norm( dataset[i] - dataset[center])\n",
    "    neighbours = dataset[np.argsort(dists)[0:ks[-1]]]    \n",
    "  \n",
    "    local = np.empty(shape=(len(ks),5))\n",
    "    for i in prange(len(ks)):\n",
    "        k = ks[i]\n",
    "        fit = fit_FCI_jit_fm( pyfci.FCI_MC( pyfci.center_and_normalize( neighbours[0:k] ) ) )\n",
    "        local[i] = [ k, np.linalg.norm( neighbours[k-1] - neighbours[0] ), fit[0], fit[1], fit[2] ]\n",
    "\n",
    "    return local\n",
    "\n",
    "\n",
    "@njit(parallel=True,fastmath=True)\n",
    "def ordmy(dataset,center):\n",
    "    n = len(dataset)\n",
    "    dists = np.empty(n) \n",
    "    for i in prange(n):\n",
    "        dists[i] = np.linalg.norm( dataset[i] - dataset[center])\n",
    "    return dataset[np.argsort(dists)]   \n",
    "\n",
    "def local_FCI_jit2(dataset, center, ks):\n",
    "    \n",
    "    neighbours = ordmy(dataset,center)[0:ks[-1]]\n",
    "  \n",
    "    local = np.empty(shape=(len(ks),5))\n",
    "    for i in prange(len(ks)):\n",
    "        k = ks[i]\n",
    "        fit = fit_FCI_jit_fm( pyfci.FCI_MC( pyfci.center_and_normalize( neighbours[0:k] ) ) )\n",
    "        local[i] = [ k, np.linalg.norm( neighbours[k-1] - neighbours[0] ), fit[0], fit[1], fit[2] ]\n",
    "\n",
    "    return local\n",
    "\n",
    "local_FCI_funs = [local_FCI_cl,local_FCI_np,local_FCI_jit,local_FCI_jit2]"
   ]
  },
  {
   "cell_type": "code",
   "execution_count": 53,
   "metadata": {},
   "outputs": [
    {
     "name": "stdout",
     "output_type": "stream",
     "text": [
      "Function        Ready?\n",
      "--------------  --------\n",
      "local_FCI_cl    Done\n",
      "local_FCI_np    Done\n",
      "local_FCI_jit   Done\n",
      "local_FCI_jit2  Done\n"
     ]
    }
   ],
   "source": [
    "# compile with trivial input\n",
    "v = np.random.random((50,2))\n",
    "ks= [4,6]\n",
    "output = []\n",
    "for i in range(len(local_FCI_funs)):\n",
    "    local_FCI_funs[i](v,0,ks)\n",
    "    output.append( [ local_FCI_funs[i].__name__ , \"Done\" ])\n",
    "print(tabulate(output, headers=[\"Function\",\"Ready?\"]))"
   ]
  },
  {
   "cell_type": "code",
   "execution_count": 55,
   "metadata": {},
   "outputs": [
    {
     "name": "stdout",
     "output_type": "stream",
     "text": [
      "Easy input | shape: 1000,10 | ks: 20,30,40,50\n",
      "Function        Timing\n",
      "--------------  ---------------------------------------------------------------------\n",
      "local_FCI_cl    81.9 ms ± 7.37 ms per loop (mean ± std. dev. of 7 runs, 1 loop each)\n",
      "local_FCI_np    79.2 ms ± 269 µs per loop (mean ± std. dev. of 7 runs, 10 loops each)\n",
      "local_FCI_jit   78.6 ms ± 283 µs per loop (mean ± std. dev. of 7 runs, 10 loops each)\n",
      "local_FCI_jit2  78.6 ms ± 1.2 ms per loop (mean ± std. dev. of 7 runs, 10 loops each)\n"
     ]
    }
   ],
   "source": [
    "# compute with easy input\n",
    "print(\"Easy input | shape: 1000,10 | ks: 20,30,40,50\")\n",
    "v = np.random.random((1000,10))\n",
    "ks= [20,30,40,50]\n",
    "output = []\n",
    "for i in range(len(local_FCI_funs)):\n",
    "    t = %timeit -q -o local_FCI_funs[i](v,0,ks)\n",
    "    output.append( [ local_FCI_funs[i].__name__ , str(t) ])\n",
    "print(tabulate(output, headers=[\"Function\",\"Timing\"]))"
   ]
  },
  {
   "cell_type": "code",
   "execution_count": null,
   "metadata": {},
   "outputs": [],
   "source": []
  }
 ],
 "metadata": {
  "kernelspec": {
   "display_name": "Python 3",
   "language": "python",
   "name": "python3"
  },
  "language_info": {
   "codemirror_mode": {
    "name": "ipython",
    "version": 3
   },
   "file_extension": ".py",
   "mimetype": "text/x-python",
   "name": "python",
   "nbconvert_exporter": "python",
   "pygments_lexer": "ipython3",
   "version": "3.8.1"
  }
 },
 "nbformat": 4,
 "nbformat_minor": 4
}
