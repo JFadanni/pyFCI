{
 "cells": [
  {
   "cell_type": "markdown",
   "metadata": {},
   "source": [
    "# **Notice:**\n",
    "**the code in this notebook is not entirely correct. I just needed I workspace to test numba.**"
   ]
  },
  {
   "cell_type": "markdown",
   "metadata": {},
   "source": [
    "# Benchmarks\n",
    "\n",
    "In this notebook, I try different versions of the functions defined in pyFCI to optimize the usage of [numba](http://numba.pydata.org/)'s just-in-time compilation capabilities.\n",
    "\n",
    "The main points are: \n",
    "- apparently, I cannot write efficient numpy code!\n",
    "- parallelizing is not particularly efficient for the problems I face.\n",
    "\n",
    "Legend:"
   ]
  },
  {
   "cell_type": "markdown",
   "metadata": {},
   "source": [
    "| Function name | Description |\n",
    "|---|---|\n",
    "| \"clean\" | numba-compilable function |\n",
    "| \"np\"    | numpy function, mostly not numba-compilable, as of first version of the pyFCI code|\n",
    "| \"jit\"  | function compiled with @njit(parallel=False,fastmath=False) |\n",
    "| \"jit_fm\"  | function compiled with @njit(parallel=False,fastmath=True) |\n",
    "| \"jit_p\"  | function compiled with @njit(parallel=True,fastmath=False) |\n",
    "| \"jit_p_fm\"  | function compiled with @njit(parallel=True,fastmath=True) |"
   ]
  },
  {
   "cell_type": "code",
   "execution_count": 2,
   "metadata": {},
   "outputs": [],
   "source": [
    "import numpy as np\n",
    "import scipy as scy\n",
    "import scipy.special as scyspc\n",
    "import scipy.optimize as scyopt\n",
    "from numba import jit,njit,prange,vectorize,float64\n",
    "from tabulate import tabulate\n",
    "\n",
    "import pyFCI as pyfci"
   ]
  },
  {
   "cell_type": "markdown",
   "metadata": {},
   "source": [
    "## Center and normalize"
   ]
  },
  {
   "cell_type": "code",
   "execution_count": 3,
   "metadata": {},
   "outputs": [],
   "source": [
    "def center_and_normalize(dataset):\n",
    "    \"\"\"\n",
    "    Center and normalize a **dataset** of N d-dimensional points so that its Euclidean barycenter is the zero vector, and each of its points has norm 1. \n",
    "\n",
    "    :param dataset: vector of shape (N,d)\n",
    "    :returns: vector of shape (N,d)\n",
    "    \"\"\"\n",
    "    mean = np.mean(dataset,axis=0)\n",
    "    return np.array([ vec / np.linalg.norm(vec) for vec in dataset - mean ])"
   ]
  },
  {
   "cell_type": "code",
   "execution_count": 29,
   "metadata": {},
   "outputs": [],
   "source": [
    "def CN_clean(a):\n",
    "    (n1,n2) = np.shape(a)\n",
    "    r = np.empty((n1,n2))\n",
    "    mean = np.empty(n2)\n",
    "    for i in range(n2):\n",
    "        mean[i] = np.mean(a[:,i])\n",
    "    for i in range(n1):\n",
    "        v = a[i] - mean\n",
    "        r[i] = v / np.linalg.norm(v)\n",
    "    return r\n",
    "\n",
    "def CN_np_old(a):\n",
    "    mean = np.mean(a,axis=0)\n",
    "    return np.array([ vec / np.linalg.norm(vec) for vec in a - mean ])\n",
    "    \n",
    "def CN_np(a):\n",
    "    mean = np.mean(a,axis=0)\n",
    "    std = np.std(a,axis=0)\n",
    "    return (a - mean)/std\n",
    "\n",
    "@njit(parallel=False)\n",
    "def CN_jit(a):\n",
    "    (n1,n2) = np.shape(a)\n",
    "    r = np.empty((n1,n2))\n",
    "    mean = np.empty(n2)\n",
    "    for i in prange(n2):\n",
    "        mean[i] = np.mean(a[:,i])\n",
    "    for i in prange(n1):\n",
    "        v = a[i] - mean\n",
    "        r[i] = v / np.linalg.norm(v)\n",
    "    return r\n",
    "\n",
    "@njit(parallel=False,fastmath = True)\n",
    "def CN_jit_fm(a):\n",
    "    (n1,n2) = np.shape(a)\n",
    "    r = np.empty((n1,n2))\n",
    "    mean = np.empty(n2)\n",
    "    for i in prange(n2):\n",
    "        mean[i] = np.mean(a[:,i])\n",
    "    for i in prange(n1):\n",
    "        v = a[i] - mean\n",
    "        r[i] = v / np.linalg.norm(v)\n",
    "    return r\n",
    "\n",
    "@njit(parallel=True)\n",
    "def CN_jit_p(a):\n",
    "    (n1,n2) = np.shape(a)\n",
    "    r = np.empty((n1,n2))\n",
    "    mean = np.empty(n2)\n",
    "    for i in prange(n2):\n",
    "        mean[i] = np.mean(a[:,i])\n",
    "    for i in prange(n1):\n",
    "        v = a[i] - mean\n",
    "        r[i] = v / np.linalg.norm(v)\n",
    "    return r\n",
    "\n",
    "@njit(parallel=True,fastmath = True)\n",
    "def CN_jit_p_fm(a):\n",
    "    (n1,n2) = np.shape(a)\n",
    "    r = np.empty((n1,n2))\n",
    "    mean = np.empty(n2)\n",
    "    for i in prange(n2):\n",
    "        mean[i] = np.mean(a[:,i])\n",
    "    for i in prange(n1):\n",
    "        v = a[i] - mean\n",
    "        r[i] = v / np.linalg.norm(v)\n",
    "    return r\n",
    "\n",
    "CN_funs = [CN_clean,CN_np,CN_np_old,CN_jit,CN_jit_fm,CN_jit_p,CN_jit_p_fm]"
   ]
  },
  {
   "cell_type": "code",
   "execution_count": 23,
   "metadata": {},
   "outputs": [
    {
     "name": "stdout",
     "output_type": "stream",
     "text": [
      "[[-0.71675787 -0.48746453]\n",
      " [-1.61127446 -1.12431385]\n",
      " [-0.09732754 -0.91092788]\n",
      " [-1.43583931  1.31798183]\n",
      " [-0.30808587 -0.66137986]\n",
      " [ 0.25116441  1.26005597]\n",
      " [ 1.33124819 -1.1823158 ]\n",
      " [ 1.26763929  1.11180102]\n",
      " [ 0.20595043  1.06057845]\n",
      " [ 1.11328273 -0.38401534]] [-1.33226763e-16 -3.33066907e-17] [1. 1.]\n"
     ]
    }
   ],
   "source": [
    "v = np.random.random((10,2))\n",
    "o = CN_np(v)\n",
    "print(o,o.mean(axis=0),o.std(axis=0))"
   ]
  },
  {
   "cell_type": "code",
   "execution_count": 30,
   "metadata": {},
   "outputs": [
    {
     "name": "stdout",
     "output_type": "stream",
     "text": [
      "Function        Ready?\n",
      "--------------  --------\n",
      "CN_clean        Done\n",
      "CN_np           Done\n",
      "CN_np_old       Done\n",
      "CN_jit          Done\n",
      "CN_jit_fm       Done\n",
      "CN_jit_p        Done\n",
      "CN_jit_p_fm     Done\n",
      "CN_np_parallel  Done\n"
     ]
    }
   ],
   "source": [
    "# compile with trivial input\n",
    "v = np.random.random((10,2))\n",
    "output = []\n",
    "for i in range(len(CN_funs)):\n",
    "    CN_funs[i](v)\n",
    "    output.append( [ CN_funs[i].__name__ , \"Done\" ])\n",
    "print(tabulate(output, headers=[\"Function\",\"Ready?\"]))"
   ]
  },
  {
   "cell_type": "code",
   "execution_count": 19,
   "metadata": {},
   "outputs": [
    {
     "name": "stdout",
     "output_type": "stream",
     "text": [
      "Easy input | shape: 100,20\n",
      "Function     Timing\n",
      "-----------  -------------------------------------------------------------------------\n",
      "CN_clean     549 µs ± 27.7 µs per loop (mean ± std. dev. of 7 runs, 1,000 loops each)\n",
      "CN_np        49.9 µs ± 1.2 µs per loop (mean ± std. dev. of 7 runs, 10,000 loops each)\n",
      "CN_np_old    396 µs ± 9.03 µs per loop (mean ± std. dev. of 7 runs, 1,000 loops each)\n",
      "CN_jit       22.5 µs ± 262 ns per loop (mean ± std. dev. of 7 runs, 10,000 loops each)\n",
      "CN_jit_fm    25.6 µs ± 216 ns per loop (mean ± std. dev. of 7 runs, 10,000 loops each)\n",
      "CN_jit_p     23.6 µs ± 344 ns per loop (mean ± std. dev. of 7 runs, 10,000 loops each)\n",
      "CN_jit_p_fm  26.3 µs ± 764 ns per loop (mean ± std. dev. of 7 runs, 10,000 loops each)\n"
     ]
    }
   ],
   "source": [
    "# compute with easy input\n",
    "print(\"Easy input | shape: 100,20\")\n",
    "v = np.random.random((100,20))\n",
    "output = []\n",
    "for i in range(len(CN_funs)):\n",
    "    t = %timeit -q -o CN_funs[i](v)\n",
    "    output.append( [ CN_funs[i].__name__ , str(t) ])\n",
    "print(tabulate(output, headers=[\"Function\",\"Timing\"]))"
   ]
  },
  {
   "cell_type": "code",
   "execution_count": 20,
   "metadata": {},
   "outputs": [
    {
     "name": "stdout",
     "output_type": "stream",
     "text": [
      "Medium input | shape: 5000,100\n",
      "Function     Timing\n",
      "-----------  -------------------------------------------------------------------------\n",
      "CN_clean     25.6 ms ± 485 µs per loop (mean ± std. dev. of 7 runs, 10 loops each)\n",
      "CN_np        6.02 ms ± 171 µs per loop (mean ± std. dev. of 7 runs, 100 loops each)\n",
      "CN_np_old    21.7 ms ± 317 µs per loop (mean ± std. dev. of 7 runs, 10 loops each)\n",
      "CN_jit       2.5 ms ± 48.5 µs per loop (mean ± std. dev. of 7 runs, 100 loops each)\n",
      "CN_jit_fm    2.65 ms ± 22.8 µs per loop (mean ± std. dev. of 7 runs, 100 loops each)\n",
      "CN_jit_p     1.13 ms ± 14.7 µs per loop (mean ± std. dev. of 7 runs, 1,000 loops each)\n",
      "CN_jit_p_fm  1.46 ms ± 131 µs per loop (mean ± std. dev. of 7 runs, 1,000 loops each)\n"
     ]
    }
   ],
   "source": [
    "# compute with medium input\n",
    "print(\"Medium input | shape: 5000,100\")\n",
    "v = np.random.random((5000,100))\n",
    "output = []\n",
    "for i in range(len(CN_funs)):\n",
    "    t = %timeit -q -o CN_funs[i](v)\n",
    "    output.append( [ CN_funs[i].__name__ , str(t) ])\n",
    "print(tabulate(output, headers=[\"Function\",\"Timing\"]))"
   ]
  },
  {
   "cell_type": "code",
   "execution_count": 13,
   "metadata": {},
   "outputs": [
    {
     "name": "stdout",
     "output_type": "stream",
     "text": [
      "Hard input | shape: 20000,1000\n",
      "Function     Timing\n",
      "-----------  ---------------------------------------------------------------------\n",
      "CN_clean     237 ms ± 2.52 ms per loop (mean ± std. dev. of 7 runs, 1 loop each)\n",
      "CN_np        163 ms ± 1.26 ms per loop (mean ± std. dev. of 7 runs, 10 loops each)\n",
      "CN_np_old    275 ms ± 3.39 ms per loop (mean ± std. dev. of 7 runs, 1 loop each)\n",
      "CN_jit       127 ms ± 700 µs per loop (mean ± std. dev. of 7 runs, 10 loops each)\n",
      "CN_jit_fm    125 ms ± 1.22 ms per loop (mean ± std. dev. of 7 runs, 10 loops each)\n",
      "CN_jit_p     130 ms ± 2.61 ms per loop (mean ± std. dev. of 7 runs, 10 loops each)\n",
      "CN_jit_p_fm  138 ms ± 2.62 ms per loop (mean ± std. dev. of 7 runs, 10 loops each)\n"
     ]
    }
   ],
   "source": [
    "# compute with hard input\n",
    "print(\"Hard input | shape: 20000,1000\")\n",
    "v = np.random.random((20000,1000))\n",
    "output = []\n",
    "for i in range(len(CN_funs)):\n",
    "    t = %timeit -q -o CN_funs[i](v)\n",
    "    output.append( [ CN_funs[i].__name__ , str(t) ])\n",
    "print(tabulate(output, headers=[\"Function\",\"Timing\"]))"
   ]
  },
  {
   "cell_type": "markdown",
   "metadata": {},
   "source": [
    "## FCI"
   ]
  },
  {
   "cell_type": "code",
   "execution_count": 102,
   "metadata": {},
   "outputs": [],
   "source": [
    "@njit\n",
    "def FCI(dataset):\n",
    "    \"\"\"\n",
    "    Compute the full correlation integral of a **dataset** of N d-dimensional points by exact enumeration\n",
    "\n",
    "    :param dataset: vector of shape (N,d)\n",
    "    :returns: vector of shape (N(N-1)/2,2)\n",
    "    \"\"\"\n",
    "    rs = np.empty(0)\n",
    "    n = len(dataset)\n",
    "    for i in range(n):\n",
    "        for j in range(i+1,n):\n",
    "            r = np.linalg.norm(dataset[i]-dataset[j])\n",
    "            rs = np.append(rs, r)\n",
    "    return np.transpose( [ np.sort(rs) , np.linspace(0,1,num=int(n*(n-1)/2)) ] )"
   ]
  },
  {
   "cell_type": "code",
   "execution_count": 105,
   "metadata": {},
   "outputs": [],
   "source": [
    "def FCI_clean(dataset):\n",
    "    n = len(dataset)\n",
    "    m = int(n*(n-1)/2)\n",
    "    rs = np.empty(m)\n",
    "    c = 0\n",
    "    for i in range(n):\n",
    "        for j in range(i+1,n):\n",
    "            rs[c] = np.linalg.norm(dataset[i]-dataset[j])\n",
    "            c += 1\n",
    "    rs = np.sort(rs)\n",
    "    r = np.empty((m,2))\n",
    "    for i in range(m):\n",
    "        r[i] = np.array([ rs[i] , i*1./m ])\n",
    "    return r\n",
    "\n",
    "def FCI_np_old(dataset):\n",
    "    rs = np.empty(0)\n",
    "    n = len(dataset)\n",
    "    for i in range(n):\n",
    "        for j in range(i+1,n):\n",
    "            r = np.linalg.norm(dataset[i]-dataset[j])\n",
    "            rs = np.append(rs, r)\n",
    "    return np.transpose( [ np.sort(rs) , np.linspace(0,1,num=int(n*(n-1)/2)) ] )\n",
    "   \n",
    "def FCI_np(dataset):\n",
    "    n = len(dataset)\n",
    "    m = int(n*(n-1)/2)\n",
    "    rs = np.empty(m)\n",
    "    c = 0\n",
    "    for i in range(n):\n",
    "        for j in range(i+1,n):\n",
    "            r = np.linalg.norm(dataset[i]-dataset[j])\n",
    "            rs[c] = r\n",
    "            c += 1\n",
    "    return np.transpose( [ np.sort(rs) , np.linspace(0,1,num=m) ] )\n",
    "\n",
    "def FCI_np_new(dataset):\n",
    "    n = len(dataset)\n",
    "    m = int(n*(n-1)/2)\n",
    "    rs = np.empty(m,dtype=np.float64)\n",
    "    c = 0\n",
    "    for i in range(n):\n",
    "        r = np.linalg.norm(dataset[i]-dataset[i+1:],axis=1)\n",
    "        #c1 = len(r)\n",
    "        c1 = n - i - 1\n",
    "        rs[c:c+c1] = r\n",
    "        c += c1\n",
    "    return np.transpose( [ np.sort(rs) , np.linspace(0,1,num=m) ] )\n",
    "\n",
    "@njit(parallel=False)\n",
    "def FCI_jit(dataset):\n",
    "    n = len(dataset)\n",
    "    m = int(n*(n-1)/2)\n",
    "    rs = np.empty(m)\n",
    "    c = 0\n",
    "    for i in prange(n):\n",
    "        for j in prange(i+1,n):\n",
    "            rs[c] = np.linalg.norm(dataset[i]-dataset[j])\n",
    "            c += 1\n",
    "    rs = np.sort(rs)\n",
    "    r = np.empty((m,2))\n",
    "    for i in prange(m):\n",
    "        r[i] = np.array([ rs[i] , i*1./m ])\n",
    "    return r\n",
    "\n",
    "@njit(parallel=False,fastmath=True)\n",
    "def FCI_jit_fm(dataset):\n",
    "    n = len(dataset)\n",
    "    m = int(n*(n-1)/2)\n",
    "    rs = np.empty(m)\n",
    "    c = 0\n",
    "    for i in prange(n):\n",
    "        for j in prange(i+1,n):\n",
    "            rs[c] = np.linalg.norm(dataset[i]-dataset[j])\n",
    "            c += 1\n",
    "    rs = np.sort(rs)\n",
    "    r = np.empty((m,2))\n",
    "    for i in prange(m):\n",
    "        r[i] = np.array([ rs[i] , i*1./m ])\n",
    "    return r\n",
    "\n",
    "@njit(parallel=True)\n",
    "def FCI_jit_p(dataset):\n",
    "    n = len(dataset)\n",
    "    m = int(n*(n-1)/2)\n",
    "    rs = np.empty(m)\n",
    "    c = 0\n",
    "    for i in prange(n):\n",
    "        for j in prange(i+1,n):\n",
    "            rs[c] = np.linalg.norm(dataset[i]-dataset[j])\n",
    "            c += 1\n",
    "    rs = np.sort(rs)\n",
    "    r = np.empty((m,2))\n",
    "    for i in prange(m):\n",
    "        r[i] = np.array([ rs[i] , i*1./m ])\n",
    "    return r\n",
    "\n",
    "@njit(parallel=True,fastmath = True)\n",
    "def FCI_jit_p_fm(dataset):\n",
    "    n = len(dataset)\n",
    "    m = int(n*(n-1)/2)\n",
    "    rs = np.empty(m)\n",
    "    c = 0\n",
    "    for i in prange(n):\n",
    "        for j in prange(i+1,n):\n",
    "            rs[c] = np.linalg.norm(dataset[i]-dataset[j])\n",
    "            c += 1\n",
    "    rs = np.sort(rs)\n",
    "    r = np.empty((m,2))\n",
    "    for i in prange(m):\n",
    "        r[i] = np.array([ rs[i] , i*1./m ])\n",
    "    return r\n",
    "\n",
    "@njit(parallel=True,fastmath = True)\n",
    "# this function doesn't work\n",
    "def FCI_np_parallel(dataset):\n",
    "    n = len(dataset)\n",
    "    m = int(n*(n-1)/2)\n",
    "    rs = np.empty(m,dtype=np.float64)\n",
    "    c = 0\n",
    "    for i in prange(n):\n",
    "        c1 = n - i - 1\n",
    "        rs[c:c+c1] = np.linalg.norm(dataset[i]-dataset[i+1:],axis=1)\n",
    "        #c1 = len(r)\n",
    "        c += c1\n",
    "    rs = np.sort(rs)\n",
    "    r = np.empty((m,2))\n",
    "    for i in prange(m):\n",
    "        r[i] = np.array([ rs[i] , i*1./m ])\n",
    "    \n",
    "    return r\n",
    "\n",
    "\n",
    "FCI_funs = [FCI_clean,FCI_np_old,FCI_np,FCI_np_new,FCI_jit,FCI_jit_fm,FCI_jit_p,FCI_jit_p_fm,FCI_np_parallel]"
   ]
  },
  {
   "cell_type": "code",
   "execution_count": 106,
   "metadata": {},
   "outputs": [
    {
     "ename": "TypingError",
     "evalue": "Failed in nopython mode pipeline (step: nopython frontend)\nNo implementation of function Function(<function norm at 0x7f1fec2e11c0>) found for signature:\n \n >>> norm(array(float64, 2d, C), axis=Literal[int](1))\n \nThere are 2 candidate implementations:\n      - Of which 2 did not match due to:\n      Overload in function 'norm_impl': File: numba/np/linalg.py: Line 2427.\n        With argument(s): '(array(float64, 2d, C), axis=int64)':\n       Rejected as the implementation raised a specific error:\n         TypingError: got an unexpected keyword argument 'axis'\n  raised from /home/jacopo/Python_local/lib/python3.11/site-packages/numba/core/typing/templates.py:784\n\nDuring: resolving callee type: Function(<function norm at 0x7f1fec2e11c0>)\nDuring: typing of call at /tmp/ipykernel_37955/4185330645.py (122)\n\n\nFile \"../../../../../../../../tmp/ipykernel_37955/4185330645.py\", line 122:\n<source missing, REPL/exec in use?>\n",
     "output_type": "error",
     "traceback": [
      "\u001b[0;31m---------------------------------------------------------------------------\u001b[0m",
      "\u001b[0;31mTypingError\u001b[0m                               Traceback (most recent call last)",
      "\u001b[1;32m/home/jacopo/Documents/Assegno_Padova/ID_estimators/FCI/pyFCI/examples/Numba_performance_analysis.ipynb Cell 16\u001b[0m line \u001b[0;36m5\n\u001b[1;32m      <a href='vscode-notebook-cell:/home/jacopo/Documents/Assegno_Padova/ID_estimators/FCI/pyFCI/examples/Numba_performance_analysis.ipynb#X20sZmlsZQ%3D%3D?line=2'>3</a>\u001b[0m output \u001b[39m=\u001b[39m []\n\u001b[1;32m      <a href='vscode-notebook-cell:/home/jacopo/Documents/Assegno_Padova/ID_estimators/FCI/pyFCI/examples/Numba_performance_analysis.ipynb#X20sZmlsZQ%3D%3D?line=3'>4</a>\u001b[0m \u001b[39mfor\u001b[39;00m i \u001b[39min\u001b[39;00m \u001b[39mrange\u001b[39m(\u001b[39mlen\u001b[39m(FCI_funs)):\n\u001b[0;32m----> <a href='vscode-notebook-cell:/home/jacopo/Documents/Assegno_Padova/ID_estimators/FCI/pyFCI/examples/Numba_performance_analysis.ipynb#X20sZmlsZQ%3D%3D?line=4'>5</a>\u001b[0m     FCI_funs[i](v)\n\u001b[1;32m      <a href='vscode-notebook-cell:/home/jacopo/Documents/Assegno_Padova/ID_estimators/FCI/pyFCI/examples/Numba_performance_analysis.ipynb#X20sZmlsZQ%3D%3D?line=5'>6</a>\u001b[0m     output\u001b[39m.\u001b[39mappend( [ FCI_funs[i]\u001b[39m.\u001b[39m\u001b[39m__name__\u001b[39m , \u001b[39m\"\u001b[39m\u001b[39mDone\u001b[39m\u001b[39m\"\u001b[39m ])\n\u001b[1;32m      <a href='vscode-notebook-cell:/home/jacopo/Documents/Assegno_Padova/ID_estimators/FCI/pyFCI/examples/Numba_performance_analysis.ipynb#X20sZmlsZQ%3D%3D?line=6'>7</a>\u001b[0m \u001b[39mprint\u001b[39m(tabulate(output, headers\u001b[39m=\u001b[39m[\u001b[39m\"\u001b[39m\u001b[39mFunction\u001b[39m\u001b[39m\"\u001b[39m,\u001b[39m\"\u001b[39m\u001b[39mReady?\u001b[39m\u001b[39m\"\u001b[39m]))\n",
      "File \u001b[0;32m~/Python_local/lib/python3.11/site-packages/numba/core/dispatcher.py:468\u001b[0m, in \u001b[0;36m_DispatcherBase._compile_for_args\u001b[0;34m(self, *args, **kws)\u001b[0m\n\u001b[1;32m    464\u001b[0m         msg \u001b[39m=\u001b[39m (\u001b[39mf\u001b[39m\u001b[39m\"\u001b[39m\u001b[39m{\u001b[39;00m\u001b[39mstr\u001b[39m(e)\u001b[39m.\u001b[39mrstrip()\u001b[39m}\u001b[39;00m\u001b[39m \u001b[39m\u001b[39m\\n\u001b[39;00m\u001b[39m\\n\u001b[39;00m\u001b[39mThis error may have been caused \u001b[39m\u001b[39m\"\u001b[39m\n\u001b[1;32m    465\u001b[0m                \u001b[39mf\u001b[39m\u001b[39m\"\u001b[39m\u001b[39mby the following argument(s):\u001b[39m\u001b[39m\\n\u001b[39;00m\u001b[39m{\u001b[39;00margs_str\u001b[39m}\u001b[39;00m\u001b[39m\\n\u001b[39;00m\u001b[39m\"\u001b[39m)\n\u001b[1;32m    466\u001b[0m         e\u001b[39m.\u001b[39mpatch_message(msg)\n\u001b[0;32m--> 468\u001b[0m     error_rewrite(e, \u001b[39m'\u001b[39;49m\u001b[39mtyping\u001b[39;49m\u001b[39m'\u001b[39;49m)\n\u001b[1;32m    469\u001b[0m \u001b[39mexcept\u001b[39;00m errors\u001b[39m.\u001b[39mUnsupportedError \u001b[39mas\u001b[39;00m e:\n\u001b[1;32m    470\u001b[0m     \u001b[39m# Something unsupported is present in the user code, add help info\u001b[39;00m\n\u001b[1;32m    471\u001b[0m     error_rewrite(e, \u001b[39m'\u001b[39m\u001b[39munsupported_error\u001b[39m\u001b[39m'\u001b[39m)\n",
      "File \u001b[0;32m~/Python_local/lib/python3.11/site-packages/numba/core/dispatcher.py:409\u001b[0m, in \u001b[0;36m_DispatcherBase._compile_for_args.<locals>.error_rewrite\u001b[0;34m(e, issue_type)\u001b[0m\n\u001b[1;32m    407\u001b[0m     \u001b[39mraise\u001b[39;00m e\n\u001b[1;32m    408\u001b[0m \u001b[39melse\u001b[39;00m:\n\u001b[0;32m--> 409\u001b[0m     \u001b[39mraise\u001b[39;00m e\u001b[39m.\u001b[39mwith_traceback(\u001b[39mNone\u001b[39;00m)\n",
      "\u001b[0;31mTypingError\u001b[0m: Failed in nopython mode pipeline (step: nopython frontend)\nNo implementation of function Function(<function norm at 0x7f1fec2e11c0>) found for signature:\n \n >>> norm(array(float64, 2d, C), axis=Literal[int](1))\n \nThere are 2 candidate implementations:\n      - Of which 2 did not match due to:\n      Overload in function 'norm_impl': File: numba/np/linalg.py: Line 2427.\n        With argument(s): '(array(float64, 2d, C), axis=int64)':\n       Rejected as the implementation raised a specific error:\n         TypingError: got an unexpected keyword argument 'axis'\n  raised from /home/jacopo/Python_local/lib/python3.11/site-packages/numba/core/typing/templates.py:784\n\nDuring: resolving callee type: Function(<function norm at 0x7f1fec2e11c0>)\nDuring: typing of call at /tmp/ipykernel_37955/4185330645.py (122)\n\n\nFile \"../../../../../../../../tmp/ipykernel_37955/4185330645.py\", line 122:\n<source missing, REPL/exec in use?>\n"
     ]
    }
   ],
   "source": [
    "# compile with trivial input\n",
    "v = np.random.random((10,2))\n",
    "output = []\n",
    "for i in range(len(FCI_funs)):\n",
    "    FCI_funs[i](v)\n",
    "    output.append( [ FCI_funs[i].__name__ , \"Done\" ])\n",
    "print(tabulate(output, headers=[\"Function\",\"Ready?\"]))"
   ]
  },
  {
   "cell_type": "code",
   "execution_count": 80,
   "metadata": {},
   "outputs": [
    {
     "data": {
      "image/png": "[encoded data removed]",
      "text/plain": [
       "<Figure size 640x480 with 2 Axes>"
      ]
     },
     "metadata": {},
     "output_type": "display_data"
    }
   ],
   "source": [
    "import matplotlib.pyplot as plt\n",
    "v = np.random.random((100,20))\n",
    "o_np_old = FCI_np_old(v)\n",
    "o_np = FCI_np(v)\n",
    "o_np_new = FCI_np_new(v)\n",
    "diff = o_np - o_np_old\n",
    "#print(diff, o_np_old.shape, o_np.shape, o_np_new.shape)\n",
    "fig,ax = plt.subplots(2,1)\n",
    "ax[0].plot(o_np[:,0],\"*-\")\n",
    "ax[0].plot(o_np_old[:,0],\"+-\")\n",
    "ax[0].plot(o_np_new[:,0],\".-\")\n",
    "ax[1].plot(o_np[:,0]-o_np_new[:,0])\n",
    "ax[1].plot(o_np_old[:,0]-o_np_new[:,0])\n",
    "plt.show()\n"
   ]
  },
  {
   "cell_type": "code",
   "execution_count": 97,
   "metadata": {},
   "outputs": [
    {
     "name": "stdout",
     "output_type": "stream",
     "text": [
      "Easy input | shape: 100,20\n"
     ]
    },
    {
     "ename": "TypingError",
     "evalue": "Failed in nopython mode pipeline (step: nopython frontend)\nNo implementation of function Function(<function norm at 0x7f1fec2e11c0>) found for signature:\n \n >>> norm(array(float64, 2d, C), axis=Literal[int](1))\n \nThere are 2 candidate implementations:\n      - Of which 2 did not match due to:\n      Overload in function 'norm_impl': File: numba/np/linalg.py: Line 2427.\n        With argument(s): '(array(float64, 2d, C), axis=int64)':\n       Rejected as the implementation raised a specific error:\n         TypingError: got an unexpected keyword argument 'axis'\n  raised from /home/jacopo/Python_local/lib/python3.11/site-packages/numba/core/typing/templates.py:784\n\nDuring: resolving callee type: Function(<function norm at 0x7f1fec2e11c0>)\nDuring: typing of call at /tmp/ipykernel_37955/1230168567.py (121)\n\n\nFile \"../../../../../../../../tmp/ipykernel_37955/1230168567.py\", line 121:\n<source missing, REPL/exec in use?>\n",
     "output_type": "error",
     "traceback": [
      "\u001b[0;31m---------------------------------------------------------------------------\u001b[0m",
      "\u001b[0;31mTypingError\u001b[0m                               Traceback (most recent call last)",
      "\u001b[1;32m/home/jacopo/Documents/Assegno_Padova/ID_estimators/FCI/pyFCI/examples/Numba_performance_analysis.ipynb Cell 18\u001b[0m line \u001b[0;36m6\n\u001b[1;32m      <a href='vscode-notebook-cell:/home/jacopo/Documents/Assegno_Padova/ID_estimators/FCI/pyFCI/examples/Numba_performance_analysis.ipynb#X21sZmlsZQ%3D%3D?line=3'>4</a>\u001b[0m output \u001b[39m=\u001b[39m []\n\u001b[1;32m      <a href='vscode-notebook-cell:/home/jacopo/Documents/Assegno_Padova/ID_estimators/FCI/pyFCI/examples/Numba_performance_analysis.ipynb#X21sZmlsZQ%3D%3D?line=4'>5</a>\u001b[0m \u001b[39mfor\u001b[39;00m i \u001b[39min\u001b[39;00m \u001b[39mrange\u001b[39m(\u001b[39mlen\u001b[39m(FCI_funs)):\n\u001b[0;32m----> <a href='vscode-notebook-cell:/home/jacopo/Documents/Assegno_Padova/ID_estimators/FCI/pyFCI/examples/Numba_performance_analysis.ipynb#X21sZmlsZQ%3D%3D?line=5'>6</a>\u001b[0m     t \u001b[39m=\u001b[39m get_ipython()\u001b[39m.\u001b[39;49mrun_line_magic(\u001b[39m'\u001b[39;49m\u001b[39mtimeit\u001b[39;49m\u001b[39m'\u001b[39;49m, \u001b[39m'\u001b[39;49m\u001b[39m-q -o FCI_funs[i](v)\u001b[39;49m\u001b[39m'\u001b[39;49m)\n\u001b[1;32m      <a href='vscode-notebook-cell:/home/jacopo/Documents/Assegno_Padova/ID_estimators/FCI/pyFCI/examples/Numba_performance_analysis.ipynb#X21sZmlsZQ%3D%3D?line=6'>7</a>\u001b[0m     output\u001b[39m.\u001b[39mappend( [ FCI_funs[i]\u001b[39m.\u001b[39m\u001b[39m__name__\u001b[39m , \u001b[39mstr\u001b[39m(t) ])\n\u001b[1;32m      <a href='vscode-notebook-cell:/home/jacopo/Documents/Assegno_Padova/ID_estimators/FCI/pyFCI/examples/Numba_performance_analysis.ipynb#X21sZmlsZQ%3D%3D?line=7'>8</a>\u001b[0m \u001b[39mprint\u001b[39m(tabulate(output, headers\u001b[39m=\u001b[39m[\u001b[39m\"\u001b[39m\u001b[39mFunction\u001b[39m\u001b[39m\"\u001b[39m,\u001b[39m\"\u001b[39m\u001b[39mTiming\u001b[39m\u001b[39m\"\u001b[39m]))\n",
      "File \u001b[0;32m~/Python_local/lib/python3.11/site-packages/IPython/core/interactiveshell.py:2456\u001b[0m, in \u001b[0;36mInteractiveShell.run_line_magic\u001b[0;34m(self, magic_name, line, _stack_depth)\u001b[0m\n\u001b[1;32m   2454\u001b[0m     kwargs[\u001b[39m'\u001b[39m\u001b[39mlocal_ns\u001b[39m\u001b[39m'\u001b[39m] \u001b[39m=\u001b[39m \u001b[39mself\u001b[39m\u001b[39m.\u001b[39mget_local_scope(stack_depth)\n\u001b[1;32m   2455\u001b[0m \u001b[39mwith\u001b[39;00m \u001b[39mself\u001b[39m\u001b[39m.\u001b[39mbuiltin_trap:\n\u001b[0;32m-> 2456\u001b[0m     result \u001b[39m=\u001b[39m fn(\u001b[39m*\u001b[39;49margs, \u001b[39m*\u001b[39;49m\u001b[39m*\u001b[39;49mkwargs)\n\u001b[1;32m   2458\u001b[0m \u001b[39m# The code below prevents the output from being displayed\u001b[39;00m\n\u001b[1;32m   2459\u001b[0m \u001b[39m# when using magics with decorator @output_can_be_silenced\u001b[39;00m\n\u001b[1;32m   2460\u001b[0m \u001b[39m# when the last Python token in the expression is a ';'.\u001b[39;00m\n\u001b[1;32m   2461\u001b[0m \u001b[39mif\u001b[39;00m \u001b[39mgetattr\u001b[39m(fn, magic\u001b[39m.\u001b[39mMAGIC_OUTPUT_CAN_BE_SILENCED, \u001b[39mFalse\u001b[39;00m):\n",
      "File \u001b[0;32m~/Python_local/lib/python3.11/site-packages/IPython/core/magics/execution.py:1185\u001b[0m, in \u001b[0;36mExecutionMagics.timeit\u001b[0;34m(self, line, cell, local_ns)\u001b[0m\n\u001b[1;32m   1183\u001b[0m \u001b[39mfor\u001b[39;00m index \u001b[39min\u001b[39;00m \u001b[39mrange\u001b[39m(\u001b[39m0\u001b[39m, \u001b[39m10\u001b[39m):\n\u001b[1;32m   1184\u001b[0m     number \u001b[39m=\u001b[39m \u001b[39m10\u001b[39m \u001b[39m*\u001b[39m\u001b[39m*\u001b[39m index\n\u001b[0;32m-> 1185\u001b[0m     time_number \u001b[39m=\u001b[39m timer\u001b[39m.\u001b[39;49mtimeit(number)\n\u001b[1;32m   1186\u001b[0m     \u001b[39mif\u001b[39;00m time_number \u001b[39m>\u001b[39m\u001b[39m=\u001b[39m \u001b[39m0.2\u001b[39m:\n\u001b[1;32m   1187\u001b[0m         \u001b[39mbreak\u001b[39;00m\n",
      "File \u001b[0;32m~/Python_local/lib/python3.11/site-packages/IPython/core/magics/execution.py:173\u001b[0m, in \u001b[0;36mTimer.timeit\u001b[0;34m(self, number)\u001b[0m\n\u001b[1;32m    171\u001b[0m gc\u001b[39m.\u001b[39mdisable()\n\u001b[1;32m    172\u001b[0m \u001b[39mtry\u001b[39;00m:\n\u001b[0;32m--> 173\u001b[0m     timing \u001b[39m=\u001b[39m \u001b[39mself\u001b[39;49m\u001b[39m.\u001b[39;49minner(it, \u001b[39mself\u001b[39;49m\u001b[39m.\u001b[39;49mtimer)\n\u001b[1;32m    174\u001b[0m \u001b[39mfinally\u001b[39;00m:\n\u001b[1;32m    175\u001b[0m     \u001b[39mif\u001b[39;00m gcold:\n",
      "File \u001b[0;32m<magic-timeit>:1\u001b[0m, in \u001b[0;36minner\u001b[0;34m(_it, _timer)\u001b[0m\n",
      "File \u001b[0;32m~/Python_local/lib/python3.11/site-packages/numba/core/dispatcher.py:468\u001b[0m, in \u001b[0;36m_DispatcherBase._compile_for_args\u001b[0;34m(self, *args, **kws)\u001b[0m\n\u001b[1;32m    464\u001b[0m         msg \u001b[39m=\u001b[39m (\u001b[39mf\u001b[39m\u001b[39m\"\u001b[39m\u001b[39m{\u001b[39;00m\u001b[39mstr\u001b[39m(e)\u001b[39m.\u001b[39mrstrip()\u001b[39m}\u001b[39;00m\u001b[39m \u001b[39m\u001b[39m\\n\u001b[39;00m\u001b[39m\\n\u001b[39;00m\u001b[39mThis error may have been caused \u001b[39m\u001b[39m\"\u001b[39m\n\u001b[1;32m    465\u001b[0m                \u001b[39mf\u001b[39m\u001b[39m\"\u001b[39m\u001b[39mby the following argument(s):\u001b[39m\u001b[39m\\n\u001b[39;00m\u001b[39m{\u001b[39;00margs_str\u001b[39m}\u001b[39;00m\u001b[39m\\n\u001b[39;00m\u001b[39m\"\u001b[39m)\n\u001b[1;32m    466\u001b[0m         e\u001b[39m.\u001b[39mpatch_message(msg)\n\u001b[0;32m--> 468\u001b[0m     error_rewrite(e, \u001b[39m'\u001b[39;49m\u001b[39mtyping\u001b[39;49m\u001b[39m'\u001b[39;49m)\n\u001b[1;32m    469\u001b[0m \u001b[39mexcept\u001b[39;00m errors\u001b[39m.\u001b[39mUnsupportedError \u001b[39mas\u001b[39;00m e:\n\u001b[1;32m    470\u001b[0m     \u001b[39m# Something unsupported is present in the user code, add help info\u001b[39;00m\n\u001b[1;32m    471\u001b[0m     error_rewrite(e, \u001b[39m'\u001b[39m\u001b[39munsupported_error\u001b[39m\u001b[39m'\u001b[39m)\n",
      "File \u001b[0;32m~/Python_local/lib/python3.11/site-packages/numba/core/dispatcher.py:409\u001b[0m, in \u001b[0;36m_DispatcherBase._compile_for_args.<locals>.error_rewrite\u001b[0;34m(e, issue_type)\u001b[0m\n\u001b[1;32m    407\u001b[0m     \u001b[39mraise\u001b[39;00m e\n\u001b[1;32m    408\u001b[0m \u001b[39melse\u001b[39;00m:\n\u001b[0;32m--> 409\u001b[0m     \u001b[39mraise\u001b[39;00m e\u001b[39m.\u001b[39mwith_traceback(\u001b[39mNone\u001b[39;00m)\n",
      "\u001b[0;31mTypingError\u001b[0m: Failed in nopython mode pipeline (step: nopython frontend)\nNo implementation of function Function(<function norm at 0x7f1fec2e11c0>) found for signature:\n \n >>> norm(array(float64, 2d, C), axis=Literal[int](1))\n \nThere are 2 candidate implementations:\n      - Of which 2 did not match due to:\n      Overload in function 'norm_impl': File: numba/np/linalg.py: Line 2427.\n        With argument(s): '(array(float64, 2d, C), axis=int64)':\n       Rejected as the implementation raised a specific error:\n         TypingError: got an unexpected keyword argument 'axis'\n  raised from /home/jacopo/Python_local/lib/python3.11/site-packages/numba/core/typing/templates.py:784\n\nDuring: resolving callee type: Function(<function norm at 0x7f1fec2e11c0>)\nDuring: typing of call at /tmp/ipykernel_37955/1230168567.py (121)\n\n\nFile \"../../../../../../../../tmp/ipykernel_37955/1230168567.py\", line 121:\n<source missing, REPL/exec in use?>\n"
     ]
    }
   ],
   "source": [
    "# compute with easy input\n",
    "print(\"Easy input | shape: 100,20\")\n",
    "v = np.random.random((100,20))\n",
    "output = []\n",
    "for i in range(len(FCI_funs)):\n",
    "    t = %timeit -q -o FCI_funs[i](v)\n",
    "    output.append( [ FCI_funs[i].__name__ , str(t) ])\n",
    "print(tabulate(output, headers=[\"Function\",\"Timing\"]))"
   ]
  },
  {
   "cell_type": "code",
   "execution_count": 82,
   "metadata": {},
   "outputs": [
    {
     "name": "stdout",
     "output_type": "stream",
     "text": [
      "Medium input | shape: 1000,100\n",
      "Function      Timing\n",
      "------------  ----------------------------------------------------------------------\n",
      "FCI_clean     2.24 s ± 56.3 ms per loop (mean ± std. dev. of 7 runs, 1 loop each)\n",
      "FCI_np        1.85 s ± 25.6 ms per loop (mean ± std. dev. of 7 runs, 1 loop each)\n",
      "FCI_np_old    1min 30s ± 3.32 s per loop (mean ± std. dev. of 7 runs, 1 loop each)\n",
      "FCI_np_new    128 ms ± 891 µs per loop (mean ± std. dev. of 7 runs, 10 loops each)\n",
      "FCI_jit       173 ms ± 2.57 ms per loop (mean ± std. dev. of 7 runs, 10 loops each)\n",
      "FCI_jit_fm    174 ms ± 1.59 ms per loop (mean ± std. dev. of 7 runs, 10 loops each)\n",
      "FCI_jit_p     75.1 ms ± 1.97 ms per loop (mean ± std. dev. of 7 runs, 10 loops each)\n",
      "FCI_jit_p_fm  87.7 ms ± 3.46 ms per loop (mean ± std. dev. of 7 runs, 10 loops each)\n"
     ]
    }
   ],
   "source": [
    "# compute with medium input\n",
    "print(\"Medium input | shape: 1000,100\")\n",
    "v = np.random.random((1000,100))\n",
    "output = []\n",
    "for i in range(len(FCI_funs)):\n",
    "    t = %timeit -q -o FCI_funs[i](v)\n",
    "    output.append( [ FCI_funs[i].__name__ , str(t) ])\n",
    "print(tabulate(output, headers=[\"Function\",\"Timing\"]))"
   ]
  },
  {
   "cell_type": "code",
   "execution_count": 94,
   "metadata": {},
   "outputs": [],
   "source": [
    "FCI_funs = [FCI_np_new,FCI_jit,FCI_jit_fm,FCI_jit_p,FCI_jit_p_fm,FCI_np_parallel]"
   ]
  },
  {
   "cell_type": "code",
   "execution_count": 93,
   "metadata": {},
   "outputs": [
    {
     "name": "stdout",
     "output_type": "stream",
     "text": [
      "Hard input | shape: 5000,500\n"
     ]
    },
    {
     "ename": "TypingError",
     "evalue": "Failed in nopython mode pipeline (step: nopython frontend)\nNo implementation of function Function(<function norm at 0x7f1fec2e11c0>) found for signature:\n \n >>> norm(array(float64, 2d, C), axis=Literal[int](1))\n \nThere are 2 candidate implementations:\n      - Of which 2 did not match due to:\n      Overload in function 'norm_impl': File: numba/np/linalg.py: Line 2427.\n        With argument(s): '(array(float64, 2d, C), axis=int64)':\n       Rejected as the implementation raised a specific error:\n         TypingError: got an unexpected keyword argument 'axis'\n  raised from /home/jacopo/Python_local/lib/python3.11/site-packages/numba/core/typing/templates.py:784\n\nDuring: resolving callee type: Function(<function norm at 0x7f1fec2e11c0>)\nDuring: typing of call at /tmp/ipykernel_37955/3691014624.py (121)\n\n\nFile \"../../../../../../../../tmp/ipykernel_37955/3691014624.py\", line 121:\n<source missing, REPL/exec in use?>\n",
     "output_type": "error",
     "traceback": [
      "\u001b[0;31m---------------------------------------------------------------------------\u001b[0m",
      "\u001b[0;31mTypingError\u001b[0m                               Traceback (most recent call last)",
      "\u001b[1;32m/home/jacopo/Documents/Assegno_Padova/ID_estimators/FCI/pyFCI/examples/Numba_performance_analysis.ipynb Cell 21\u001b[0m line \u001b[0;36m7\n\u001b[1;32m      <a href='vscode-notebook-cell:/home/jacopo/Documents/Assegno_Padova/ID_estimators/FCI/pyFCI/examples/Numba_performance_analysis.ipynb#X23sZmlsZQ%3D%3D?line=4'>5</a>\u001b[0m output \u001b[39m=\u001b[39m []\n\u001b[1;32m      <a href='vscode-notebook-cell:/home/jacopo/Documents/Assegno_Padova/ID_estimators/FCI/pyFCI/examples/Numba_performance_analysis.ipynb#X23sZmlsZQ%3D%3D?line=5'>6</a>\u001b[0m \u001b[39mfor\u001b[39;00m i \u001b[39min\u001b[39;00m \u001b[39mrange\u001b[39m(\u001b[39mlen\u001b[39m(FCI_funs)):\n\u001b[0;32m----> <a href='vscode-notebook-cell:/home/jacopo/Documents/Assegno_Padova/ID_estimators/FCI/pyFCI/examples/Numba_performance_analysis.ipynb#X23sZmlsZQ%3D%3D?line=6'>7</a>\u001b[0m     t \u001b[39m=\u001b[39m get_ipython()\u001b[39m.\u001b[39;49mrun_line_magic(\u001b[39m'\u001b[39;49m\u001b[39mtimeit\u001b[39;49m\u001b[39m'\u001b[39;49m, \u001b[39m'\u001b[39;49m\u001b[39m-q -o FCI_funs[i](v)\u001b[39;49m\u001b[39m'\u001b[39;49m)\n\u001b[1;32m      <a href='vscode-notebook-cell:/home/jacopo/Documents/Assegno_Padova/ID_estimators/FCI/pyFCI/examples/Numba_performance_analysis.ipynb#X23sZmlsZQ%3D%3D?line=7'>8</a>\u001b[0m     output\u001b[39m.\u001b[39mappend( [ FCI_funs[i]\u001b[39m.\u001b[39m\u001b[39m__name__\u001b[39m , \u001b[39mstr\u001b[39m(t) ])\n\u001b[1;32m      <a href='vscode-notebook-cell:/home/jacopo/Documents/Assegno_Padova/ID_estimators/FCI/pyFCI/examples/Numba_performance_analysis.ipynb#X23sZmlsZQ%3D%3D?line=8'>9</a>\u001b[0m \u001b[39mprint\u001b[39m(tabulate(output, headers\u001b[39m=\u001b[39m[\u001b[39m\"\u001b[39m\u001b[39mFunction\u001b[39m\u001b[39m\"\u001b[39m,\u001b[39m\"\u001b[39m\u001b[39mTiming\u001b[39m\u001b[39m\"\u001b[39m]))\n",
      "File \u001b[0;32m~/Python_local/lib/python3.11/site-packages/IPython/core/interactiveshell.py:2456\u001b[0m, in \u001b[0;36mInteractiveShell.run_line_magic\u001b[0;34m(self, magic_name, line, _stack_depth)\u001b[0m\n\u001b[1;32m   2454\u001b[0m     kwargs[\u001b[39m'\u001b[39m\u001b[39mlocal_ns\u001b[39m\u001b[39m'\u001b[39m] \u001b[39m=\u001b[39m \u001b[39mself\u001b[39m\u001b[39m.\u001b[39mget_local_scope(stack_depth)\n\u001b[1;32m   2455\u001b[0m \u001b[39mwith\u001b[39;00m \u001b[39mself\u001b[39m\u001b[39m.\u001b[39mbuiltin_trap:\n\u001b[0;32m-> 2456\u001b[0m     result \u001b[39m=\u001b[39m fn(\u001b[39m*\u001b[39;49margs, \u001b[39m*\u001b[39;49m\u001b[39m*\u001b[39;49mkwargs)\n\u001b[1;32m   2458\u001b[0m \u001b[39m# The code below prevents the output from being displayed\u001b[39;00m\n\u001b[1;32m   2459\u001b[0m \u001b[39m# when using magics with decorator @output_can_be_silenced\u001b[39;00m\n\u001b[1;32m   2460\u001b[0m \u001b[39m# when the last Python token in the expression is a ';'.\u001b[39;00m\n\u001b[1;32m   2461\u001b[0m \u001b[39mif\u001b[39;00m \u001b[39mgetattr\u001b[39m(fn, magic\u001b[39m.\u001b[39mMAGIC_OUTPUT_CAN_BE_SILENCED, \u001b[39mFalse\u001b[39;00m):\n",
      "File \u001b[0;32m~/Python_local/lib/python3.11/site-packages/IPython/core/magics/execution.py:1185\u001b[0m, in \u001b[0;36mExecutionMagics.timeit\u001b[0;34m(self, line, cell, local_ns)\u001b[0m\n\u001b[1;32m   1183\u001b[0m \u001b[39mfor\u001b[39;00m index \u001b[39min\u001b[39;00m \u001b[39mrange\u001b[39m(\u001b[39m0\u001b[39m, \u001b[39m10\u001b[39m):\n\u001b[1;32m   1184\u001b[0m     number \u001b[39m=\u001b[39m \u001b[39m10\u001b[39m \u001b[39m*\u001b[39m\u001b[39m*\u001b[39m index\n\u001b[0;32m-> 1185\u001b[0m     time_number \u001b[39m=\u001b[39m timer\u001b[39m.\u001b[39;49mtimeit(number)\n\u001b[1;32m   1186\u001b[0m     \u001b[39mif\u001b[39;00m time_number \u001b[39m>\u001b[39m\u001b[39m=\u001b[39m \u001b[39m0.2\u001b[39m:\n\u001b[1;32m   1187\u001b[0m         \u001b[39mbreak\u001b[39;00m\n",
      "File \u001b[0;32m~/Python_local/lib/python3.11/site-packages/IPython/core/magics/execution.py:173\u001b[0m, in \u001b[0;36mTimer.timeit\u001b[0;34m(self, number)\u001b[0m\n\u001b[1;32m    171\u001b[0m gc\u001b[39m.\u001b[39mdisable()\n\u001b[1;32m    172\u001b[0m \u001b[39mtry\u001b[39;00m:\n\u001b[0;32m--> 173\u001b[0m     timing \u001b[39m=\u001b[39m \u001b[39mself\u001b[39;49m\u001b[39m.\u001b[39;49minner(it, \u001b[39mself\u001b[39;49m\u001b[39m.\u001b[39;49mtimer)\n\u001b[1;32m    174\u001b[0m \u001b[39mfinally\u001b[39;00m:\n\u001b[1;32m    175\u001b[0m     \u001b[39mif\u001b[39;00m gcold:\n",
      "File \u001b[0;32m<magic-timeit>:1\u001b[0m, in \u001b[0;36minner\u001b[0;34m(_it, _timer)\u001b[0m\n",
      "File \u001b[0;32m~/Python_local/lib/python3.11/site-packages/numba/core/dispatcher.py:468\u001b[0m, in \u001b[0;36m_DispatcherBase._compile_for_args\u001b[0;34m(self, *args, **kws)\u001b[0m\n\u001b[1;32m    464\u001b[0m         msg \u001b[39m=\u001b[39m (\u001b[39mf\u001b[39m\u001b[39m\"\u001b[39m\u001b[39m{\u001b[39;00m\u001b[39mstr\u001b[39m(e)\u001b[39m.\u001b[39mrstrip()\u001b[39m}\u001b[39;00m\u001b[39m \u001b[39m\u001b[39m\\n\u001b[39;00m\u001b[39m\\n\u001b[39;00m\u001b[39mThis error may have been caused \u001b[39m\u001b[39m\"\u001b[39m\n\u001b[1;32m    465\u001b[0m                \u001b[39mf\u001b[39m\u001b[39m\"\u001b[39m\u001b[39mby the following argument(s):\u001b[39m\u001b[39m\\n\u001b[39;00m\u001b[39m{\u001b[39;00margs_str\u001b[39m}\u001b[39;00m\u001b[39m\\n\u001b[39;00m\u001b[39m\"\u001b[39m)\n\u001b[1;32m    466\u001b[0m         e\u001b[39m.\u001b[39mpatch_message(msg)\n\u001b[0;32m--> 468\u001b[0m     error_rewrite(e, \u001b[39m'\u001b[39;49m\u001b[39mtyping\u001b[39;49m\u001b[39m'\u001b[39;49m)\n\u001b[1;32m    469\u001b[0m \u001b[39mexcept\u001b[39;00m errors\u001b[39m.\u001b[39mUnsupportedError \u001b[39mas\u001b[39;00m e:\n\u001b[1;32m    470\u001b[0m     \u001b[39m# Something unsupported is present in the user code, add help info\u001b[39;00m\n\u001b[1;32m    471\u001b[0m     error_rewrite(e, \u001b[39m'\u001b[39m\u001b[39munsupported_error\u001b[39m\u001b[39m'\u001b[39m)\n",
      "File \u001b[0;32m~/Python_local/lib/python3.11/site-packages/numba/core/dispatcher.py:409\u001b[0m, in \u001b[0;36m_DispatcherBase._compile_for_args.<locals>.error_rewrite\u001b[0;34m(e, issue_type)\u001b[0m\n\u001b[1;32m    407\u001b[0m     \u001b[39mraise\u001b[39;00m e\n\u001b[1;32m    408\u001b[0m \u001b[39melse\u001b[39;00m:\n\u001b[0;32m--> 409\u001b[0m     \u001b[39mraise\u001b[39;00m e\u001b[39m.\u001b[39mwith_traceback(\u001b[39mNone\u001b[39;00m)\n",
      "\u001b[0;31mTypingError\u001b[0m: Failed in nopython mode pipeline (step: nopython frontend)\nNo implementation of function Function(<function norm at 0x7f1fec2e11c0>) found for signature:\n \n >>> norm(array(float64, 2d, C), axis=Literal[int](1))\n \nThere are 2 candidate implementations:\n      - Of which 2 did not match due to:\n      Overload in function 'norm_impl': File: numba/np/linalg.py: Line 2427.\n        With argument(s): '(array(float64, 2d, C), axis=int64)':\n       Rejected as the implementation raised a specific error:\n         TypingError: got an unexpected keyword argument 'axis'\n  raised from /home/jacopo/Python_local/lib/python3.11/site-packages/numba/core/typing/templates.py:784\n\nDuring: resolving callee type: Function(<function norm at 0x7f1fec2e11c0>)\nDuring: typing of call at /tmp/ipykernel_37955/3691014624.py (121)\n\n\nFile \"../../../../../../../../tmp/ipykernel_37955/3691014624.py\", line 121:\n<source missing, REPL/exec in use?>\n"
     ]
    }
   ],
   "source": [
    "# Compute with hard input\n",
    "# AVOID FCI_np\n",
    "print(\"Hard input | shape: 5000,500\")\n",
    "v = np.random.random((5000,500))\n",
    "output = []\n",
    "for i in range(len(FCI_funs)):\n",
    "    t = %timeit -q -o FCI_funs[i](v)\n",
    "    output.append( [ FCI_funs[i].__name__ , str(t) ])\n",
    "print(tabulate(output, headers=[\"Function\",\"Timing\"]))"
   ]
  },
  {
   "cell_type": "markdown",
   "metadata": {},
   "source": [
    "## FCI_MC"
   ]
  },
  {
   "cell_type": "code",
   "execution_count": 218,
   "metadata": {},
   "outputs": [],
   "source": [
    "def FCI_MC(dataset,samples=500):\n",
    "    \"\"\"\n",
    "    Compute the full correlation integral of a **dataset** of N d-dimensional points by random sampling of **samples** pair of points\n",
    "\n",
    "    :param dataset: vector of shape (N,d)\n",
    "    :param samples: positive integer\n",
    "    :returns: vector of shape (N(N-1)/2,2)\n",
    "    \"\"\"\n",
    "    samples = int(min( len(dataset)*( len(dataset)-1 )/2, samples ))\n",
    "    rs = np.empty(0)\n",
    "    n = len(dataset)\n",
    "    for k in range(samples):\n",
    "        i = np.random.randint(0,n)\n",
    "        j = np.random.randint(0,n)\n",
    "        r = np.linalg.norm(dataset[i]-dataset[j])\n",
    "        rs = np.append(rs, r)\n",
    "\n",
    "    return np.transpose( [ np.sort(rs) , np.linspace(0,1,num=int(samples)) ] )"
   ]
  },
  {
   "cell_type": "code",
   "execution_count": 219,
   "metadata": {},
   "outputs": [],
   "source": [
    "def FCI_MC_clean(dataset,samples=500):\n",
    "    n = len(dataset)\n",
    "    m = int(n*(n-1)/2)\n",
    "    samples = min( m, samples )\n",
    "    rs = np.empty(samples)\n",
    "    \n",
    "    for k in range(samples):\n",
    "        i = np.random.randint(0,n)\n",
    "        j = np.random.randint(0,n)\n",
    "        rs[k] = np.linalg.norm(dataset[i]-dataset[j])\n",
    "    rs = np.sort(rs)\n",
    "    \n",
    "    r = np.empty((samples,2))\n",
    "    for i in range(samples):\n",
    "        r[i] = np.array([ rs[i] , i*1./m ])\n",
    "    return r\n",
    "\n",
    "def FCI_MC_np(dataset,samples=500):\n",
    "    samples = int(min( len(dataset)*( len(dataset)-1 )/2, samples ))\n",
    "    rs = np.empty(0)\n",
    "    n = len(dataset)\n",
    "    for k in range(samples):\n",
    "        i = np.random.randint(0,n)\n",
    "        j = np.random.randint(0,n)\n",
    "        r = np.linalg.norm(dataset[i]-dataset[j])\n",
    "        rs = np.append(rs, r)\n",
    "\n",
    "    return np.transpose( [ np.sort(rs) , np.linspace(0,1,num=int(samples)) ] )\n",
    "\n",
    "@njit(parallel=False)\n",
    "def FCI_MC_jit(dataset,samples=500):\n",
    "    n = len(dataset)\n",
    "    m = int(n*(n-1)/2)\n",
    "    samples = min( m, samples )\n",
    "    rs = np.empty(samples)\n",
    "    \n",
    "    for k in prange(samples):\n",
    "        i = np.random.randint(0,n)\n",
    "        j = np.random.randint(0,n)\n",
    "        rs[k] = np.linalg.norm(dataset[i]-dataset[j])\n",
    "    rs = np.sort(rs)\n",
    "    \n",
    "    r = np.empty((samples,2))\n",
    "    for i in prange(samples):\n",
    "        r[i] = np.array([ rs[i] , i*1./m ])\n",
    "    return r\n",
    "    \n",
    "@njit(parallel=False,fastmath=True)\n",
    "def FCI_MC_jit_fm(dataset,samples=500):\n",
    "    n = len(dataset)\n",
    "    m = int(n*(n-1)/2)\n",
    "    samples = min( m, samples )\n",
    "    rs = np.empty(samples)\n",
    "    \n",
    "    for k in prange(samples):\n",
    "        i = np.random.randint(0,n)\n",
    "        j = np.random.randint(0,n)\n",
    "        rs[k] = np.linalg.norm(dataset[i]-dataset[j])\n",
    "    rs = np.sort(rs)\n",
    "    \n",
    "    r = np.empty((samples,2))\n",
    "    for i in prange(samples):\n",
    "        r[i] = np.array([ rs[i] , i*1./m ])\n",
    "    return r\n",
    "\n",
    "@njit(parallel=True)\n",
    "def FCI_MC_jit_p(dataset,samples=500):\n",
    "    n = len(dataset)\n",
    "    m = int(n*(n-1)/2)\n",
    "    samples = min( m, samples )\n",
    "    rs = np.empty(samples)\n",
    "    \n",
    "    for k in prange(samples):\n",
    "        i = np.random.randint(0,n)\n",
    "        j = np.random.randint(0,n)\n",
    "        rs[k] = np.linalg.norm(dataset[i]-dataset[j])\n",
    "    rs = np.sort(rs)\n",
    "    \n",
    "    r = np.empty((samples,2))\n",
    "    for i in prange(samples):\n",
    "        r[i] = np.array([ rs[i] , i*1./m ])\n",
    "    return r\n",
    "\n",
    "@njit(parallel=True,fastmath = True)\n",
    "def FCI_MC_jit_p_fm(dataset,samples=500):\n",
    "    n = len(dataset)\n",
    "    m = int(n*(n-1)/2)\n",
    "    samples = min( m, samples )\n",
    "    rs = np.empty(samples)\n",
    "    \n",
    "    for k in prange(samples):\n",
    "        i = np.random.randint(0,n)\n",
    "        j = np.random.randint(0,n)\n",
    "        rs[k] = np.linalg.norm(dataset[i]-dataset[j])\n",
    "    rs = np.sort(rs)\n",
    "    \n",
    "    r = np.empty((samples,2))\n",
    "    for i in prange(samples):\n",
    "        r[i] = np.array([ rs[i] , i*1./m ])\n",
    "    return r\n",
    "\n",
    "FCI_MC_funs = [FCI_MC_clean,FCI_MC_np,FCI_MC_jit,FCI_MC_jit_fm,FCI_MC_jit_p,FCI_MC_jit_p_fm]"
   ]
  },
  {
   "cell_type": "code",
   "execution_count": 220,
   "metadata": {},
   "outputs": [
    {
     "name": "stdout",
     "output_type": "stream",
     "text": [
      "Function         Ready?\n",
      "---------------  --------\n",
      "FCI_MC_clean     Done\n",
      "FCI_MC_np        Done\n",
      "FCI_MC_jit       Done\n",
      "FCI_MC_jit_fm    Done\n",
      "FCI_MC_jit_p     Done\n",
      "FCI_MC_jit_p_fm  Done\n"
     ]
    }
   ],
   "source": [
    "# compile with trivial input\n",
    "v = np.random.random((10,2))\n",
    "output = []\n",
    "for i in range(len(FCI_MC_funs)):\n",
    "    FCI_MC_funs[i](v)\n",
    "    output.append( [ FCI_MC_funs[i].__name__ , \"Done\" ])\n",
    "print(tabulate(output, headers=[\"Function\",\"Ready?\"]))"
   ]
  },
  {
   "cell_type": "code",
   "execution_count": 223,
   "metadata": {},
   "outputs": [
    {
     "name": "stdout",
     "output_type": "stream",
     "text": [
      "Easy input | shape: 10000,500 | samples: 500\n",
      "Function         Timing\n",
      "---------------  ----------------------------------------------------------------------\n",
      "FCI_MC_clean     11.2 ms ± 633 µs per loop (mean ± std. dev. of 7 runs, 100 loops each)\n",
      "FCI_MC_np        14 ms ± 530 µs per loop (mean ± std. dev. of 7 runs, 100 loops each)\n",
      "FCI_MC_jit       611 µs ± 26.1 µs per loop (mean ± std. dev. of 7 runs, 1 loop each)\n",
      "FCI_MC_jit_fm    619 µs ± 31.1 µs per loop (mean ± std. dev. of 7 runs, 1 loop each)\n",
      "FCI_MC_jit_p     440 µs ± 30.2 µs per loop (mean ± std. dev. of 7 runs, 1 loop each)\n",
      "FCI_MC_jit_p_fm  524 µs ± 36.7 µs per loop (mean ± std. dev. of 7 runs, 1 loop each)\n"
     ]
    }
   ],
   "source": [
    "# compute with easy input\n",
    "print(\"Easy input | shape: 10000,500 | samples: 500\")\n",
    "v = np.random.random((10000,500))\n",
    "output = []\n",
    "for i in range(len(FCI_MC_funs)):\n",
    "    t = %timeit -q -o FCI_MC_funs[i](v,500)\n",
    "    output.append( [ FCI_MC_funs[i].__name__ , str(t) ])\n",
    "print(tabulate(output, headers=[\"Function\",\"Timing\"]))"
   ]
  },
  {
   "cell_type": "code",
   "execution_count": 224,
   "metadata": {},
   "outputs": [
    {
     "name": "stdout",
     "output_type": "stream",
     "text": [
      "Medium input | shape: 10000,500 | samples: 5000\n",
      "Function         Timing\n",
      "---------------  -----------------------------------------------------------------------\n",
      "FCI_MC_clean     109 ms ± 4.41 ms per loop (mean ± std. dev. of 7 runs, 10 loops each)\n",
      "FCI_MC_np        143 ms ± 3.52 ms per loop (mean ± std. dev. of 7 runs, 10 loops each)\n",
      "FCI_MC_jit       6.68 ms ± 190 µs per loop (mean ± std. dev. of 7 runs, 100 loops each)\n",
      "FCI_MC_jit_fm    7.13 ms ± 168 µs per loop (mean ± std. dev. of 7 runs, 100 loops each)\n",
      "FCI_MC_jit_p     4.21 ms ± 34.8 µs per loop (mean ± std. dev. of 7 runs, 100 loops each)\n",
      "FCI_MC_jit_p_fm  4.2 ms ± 42 µs per loop (mean ± std. dev. of 7 runs, 100 loops each)\n"
     ]
    }
   ],
   "source": [
    "# compute with medium input\n",
    "print(\"Medium input | shape: 10000,500 | samples: 5000\")\n",
    "v = np.random.random((10000,500))\n",
    "output = []\n",
    "for i in range(len(FCI_MC_funs)):\n",
    "    t = %timeit -q -o FCI_MC_funs[i](v,5000)\n",
    "    output.append( [ FCI_MC_funs[i].__name__ , str(t) ])\n",
    "print(tabulate(output, headers=[\"Function\",\"Timing\"]))"
   ]
  },
  {
   "cell_type": "code",
   "execution_count": 226,
   "metadata": {},
   "outputs": [
    {
     "name": "stdout",
     "output_type": "stream",
     "text": [
      "Hard input | shape: 10000,500 | samples: 50000\n",
      "Function         Timing\n",
      "---------------  ----------------------------------------------------------------------\n",
      "FCI_MC_clean     1.16 s ± 87.3 ms per loop (mean ± std. dev. of 7 runs, 1 loop each)\n",
      "FCI_MC_np        1.78 s ± 79.8 ms per loop (mean ± std. dev. of 7 runs, 1 loop each)\n",
      "FCI_MC_jit       68.3 ms ± 2.78 ms per loop (mean ± std. dev. of 7 runs, 10 loops each)\n",
      "FCI_MC_jit_fm    69.5 ms ± 2.73 ms per loop (mean ± std. dev. of 7 runs, 10 loops each)\n",
      "FCI_MC_jit_p     42.1 ms ± 669 µs per loop (mean ± std. dev. of 7 runs, 10 loops each)\n",
      "FCI_MC_jit_p_fm  41.5 ms ± 460 µs per loop (mean ± std. dev. of 7 runs, 10 loops each)\n"
     ]
    }
   ],
   "source": [
    "# compute with hard input\n",
    "print(\"Hard input | shape: 10000,500 | samples: 50000\")\n",
    "v = np.random.random((10000,500))\n",
    "output = []\n",
    "for i in range(len(FCI_MC_funs)):\n",
    "        t = %timeit -q -o FCI_MC_funs[i](v,50000)\n",
    "        output.append( [ FCI_MC_funs[i].__name__ , str(t) ])\n",
    "print(tabulate(output, headers=[\"Function\",\"Timing\"]))"
   ]
  },
  {
   "cell_type": "markdown",
   "metadata": {},
   "source": [
    "## Analytical FCI\n",
    "\n",
    "Seems fine as it is."
   ]
  },
  {
   "cell_type": "code",
   "execution_count": 46,
   "metadata": {},
   "outputs": [],
   "source": [
    "def anFCI_np(x,d,x0=1):\n",
    "    return  0.5 * ( 1 + (scyspc.gamma((1+d)/2)) / (np.sqrt(np.pi) * scyspc.gamma(d/2) ) * (-2+(x/x0)**2) * scyspc.hyp2f1( 0.5, 1-d/2, 3/2, 1/4 * (-2+(x/x0)**2)**2 ) )\n",
    "\n",
    "@jit(forceobj=True)\n",
    "def anFCI_jit(x,d,x0=1):\n",
    "    return  0.5 * ( 1 + (scyspc.gamma((1+d)/2)) / (np.sqrt(np.pi) * scyspc.gamma(d/2) ) * (-2+(x/x0)**2) * scyspc.hyp2f1( 0.5, 1-d/2, 3/2, 1/4 * (-2+(x/x0)**2)**2 ) )\n",
    "\n",
    "@jit(forceobj=True,fastmath=True)\n",
    "def anFCI_jit_fm(x,d,x0=1):\n",
    "    return  0.5 * ( 1 + (scyspc.gamma((1+d)/2)) / (np.sqrt(np.pi) * scyspc.gamma(d/2) ) * (-2+(x/x0)**2) * scyspc.hyp2f1( 0.5, 1-d/2, 3/2, 1/4 * (-2+(x/x0)**2)**2 ) )\n",
    "\n",
    "\n",
    "anFCI_funs = [anFCI_np,anFCI_jit,anFCI_jit_fm]"
   ]
  },
  {
   "cell_type": "code",
   "execution_count": 47,
   "metadata": {},
   "outputs": [
    {
     "name": "stdout",
     "output_type": "stream",
     "text": [
      "Hard input | shape: 100000 | d: 5\n",
      "Function      Timing\n",
      "------------  -------------------------------------------------------------------\n",
      "anFCI_np      279 ms ± 2.35 ms per loop (mean ± std. dev. of 7 runs, 1 loop each)\n",
      "anFCI_jit     286 ms ± 3.76 ms per loop (mean ± std. dev. of 7 runs, 1 loop each)\n",
      "anFCI_jit_fm  302 ms ± 16 ms per loop (mean ± std. dev. of 7 runs, 1 loop each)\n"
     ]
    }
   ],
   "source": [
    "# compute with hard input\n",
    "print(\"Hard input | shape: 100000 | d: 5\")\n",
    "v = np.random.random((100000))\n",
    "output = []\n",
    "for i in range(len(anFCI_funs)):\n",
    "    t = %timeit -q -o anFCI_funs[i](v,5)\n",
    "    output.append( [ anFCI_funs[i].__name__ , str(t) ])\n",
    "print(tabulate(output, headers=[\"Function\",\"Timing\"]))"
   ]
  },
  {
   "cell_type": "code",
   "execution_count": 48,
   "metadata": {},
   "outputs": [
    {
     "name": "stdout",
     "output_type": "stream",
     "text": [
      "Hard input | shape: 100000 | d: 50\n",
      "Function      Timing\n",
      "------------  ---------------------------------------------------------------------\n",
      "anFCI_np      23.2 ms ± 138 µs per loop (mean ± std. dev. of 7 runs, 10 loops each)\n",
      "anFCI_jit     24.8 ms ± 1.4 ms per loop (mean ± std. dev. of 7 runs, 10 loops each)\n",
      "anFCI_jit_fm  23.6 ms ± 670 µs per loop (mean ± std. dev. of 7 runs, 10 loops each)\n"
     ]
    }
   ],
   "source": [
    "# compute with hard input\n",
    "print(\"Hard input | shape: 100000 | d: 50\")\n",
    "v = np.random.random((100000))\n",
    "output = []\n",
    "for i in range(len(anFCI_funs)):\n",
    "    t = %timeit -q -o anFCI_funs[i](v,50)\n",
    "    output.append( [ anFCI_funs[i].__name__ , str(t) ])\n",
    "print(tabulate(output, headers=[\"Function\",\"Timing\"]))"
   ]
  },
  {
   "cell_type": "markdown",
   "metadata": {},
   "source": [
    "I'm jitting this because I think that it may compromise the parallelization of local functions later!"
   ]
  },
  {
   "cell_type": "markdown",
   "metadata": {},
   "source": [
    "## fit_FCI\n",
    "\n",
    "I think it's pointless to try jitting this one, as it calls scipy.optimize.curve_fit and then it just performs a mean square error computation."
   ]
  },
  {
   "cell_type": "code",
   "execution_count": 16,
   "metadata": {},
   "outputs": [],
   "source": [
    "def fit_FCI(rho, samples=500, threshold=0.1):\n",
    "    samples = min( len(rho),samples )\n",
    "    data = rho[np.random.choice(len(rho),samples)]\n",
    "\n",
    "    fit = scyopt.curve_fit( pyfci.analytical_FCI, data[:,0], data[:,1] )\n",
    "    if abs(fit[0][1] - 1)>threshold:\n",
    "        return [0,0,0]\n",
    "    else:\n",
    "        mse = np.sqrt(np.mean([ (pt[1] - pyfci.analytical_FCI(pt[0],fit[0][0],fit[0][1]))**2 for pt in data ]))\n",
    "        return [fit[0][0]+1,fit[0][1],mse]\n",
    "\n",
    "@jit(forceobj=True,fastmath=False)\n",
    "def fit_FCI_jit(rho, samples=500, threshold=0.1):\n",
    "    samples = min( len(rho),samples )\n",
    "    data = rho[np.random.choice(len(rho),samples)]\n",
    "\n",
    "    fit = scyopt.curve_fit( pyfci.analytical_FCI, data[:,0], data[:,1] )\n",
    "    if abs(fit[0][1] - 1)>threshold:\n",
    "        return [0,0,0]\n",
    "    else:\n",
    "        mse = np.sqrt(np.mean([ (pt[1] - pyfci.analytical_FCI(pt[0],fit[0][0],fit[0][1]))**2 for pt in data ]))\n",
    "        return [fit[0][0]+1,fit[0][1],mse]\n",
    "    \n",
    "@jit(forceobj=True,fastmath=True)\n",
    "def fit_FCI_jit_fm(rho, samples=500, threshold=0.1):\n",
    "    samples = min( len(rho),samples )\n",
    "    data = rho[np.random.choice(len(rho),samples)]\n",
    "\n",
    "    fit = scyopt.curve_fit( pyfci.analytical_FCI, data[:,0], data[:,1] )\n",
    "    if abs(fit[0][1] - 1)>threshold:\n",
    "        return [0,0,0]\n",
    "    else:\n",
    "        mse = np.sqrt(np.mean([ (pt[1] - pyfci.analytical_FCI(pt[0],fit[0][0],fit[0][1]))**2 for pt in data ]))\n",
    "        return [fit[0][0]+1,fit[0][1],mse]\n",
    "\n",
    "fit_FCI_funs = [fit_FCI,fit_FCI_jit,fit_FCI_jit_fm]"
   ]
  },
  {
   "cell_type": "code",
   "execution_count": 3,
   "metadata": {},
   "outputs": [
    {
     "name": "stdout",
     "output_type": "stream",
     "text": [
      "Function        Ready?\n",
      "--------------  --------\n",
      "fit_FCI         Done\n",
      "fit_FCI_jit     Done\n",
      "fit_FCI_jit_fm  Done\n"
     ]
    }
   ],
   "source": [
    "# compile with trivial input\n",
    "v = pyfci.FCI_MC(pyfci.center_and_normalize(np.random.random((10,2))))\n",
    "output = []\n",
    "for i in range(len(fit_FCI_funs)):\n",
    "    fit_FCI_funs[i](v)\n",
    "    output.append( [ fit_FCI_funs[i].__name__ , \"Done\" ])\n",
    "print(tabulate(output, headers=[\"Function\",\"Ready?\"]))"
   ]
  },
  {
   "cell_type": "code",
   "execution_count": 43,
   "metadata": {},
   "outputs": [
    {
     "name": "stdout",
     "output_type": "stream",
     "text": [
      "Easy input | shape: 100,5 | samples: 500\n",
      "Function        Timing\n",
      "--------------  ----------------------------------------------------------------------\n",
      "fit_FCI         16.8 ms ± 564 µs per loop (mean ± std. dev. of 7 runs, 100 loops each)\n",
      "fit_FCI_jit     17.1 ms ± 535 µs per loop (mean ± std. dev. of 7 runs, 1 loop each)\n",
      "fit_FCI_jit_fm  16.2 ms ± 430 µs per loop (mean ± std. dev. of 7 runs, 1 loop each)\n"
     ]
    }
   ],
   "source": [
    "# compute with easy input\n",
    "print(\"Easy input | shape: 100,5 | samples: 500\")\n",
    "v = pyfci.FCI_MC(pyfci.center_and_normalize(np.random.random((100,5))))\n",
    "output = []\n",
    "for i in range(len(fit_FCI_funs)):\n",
    "    t = %timeit -q -o fit_FCI_funs[i](v,500)\n",
    "    output.append( [ fit_FCI_funs[i].__name__ , str(t) ])\n",
    "print(tabulate(output, headers=[\"Function\",\"Timing\"]))"
   ]
  },
  {
   "cell_type": "code",
   "execution_count": 44,
   "metadata": {},
   "outputs": [
    {
     "name": "stdout",
     "output_type": "stream",
     "text": [
      "Hard input | shape: 1000,50 | samples: 5000\n",
      "Function        Timing\n",
      "--------------  ----------------------------------------------------------------------\n",
      "fit_FCI         19.4 ms ± 828 µs per loop (mean ± std. dev. of 7 runs, 10 loops each)\n",
      "fit_FCI_jit     19.9 ms ± 968 µs per loop (mean ± std. dev. of 7 runs, 100 loops each)\n",
      "fit_FCI_jit_fm  20.1 ms ± 482 µs per loop (mean ± std. dev. of 7 runs, 100 loops each)\n"
     ]
    }
   ],
   "source": [
    "# compute with hard input\n",
    "print(\"Hard input | shape: 1000,50 | samples: 5000\")\n",
    "v = pyfci.FCI_MC(pyfci.center_and_normalize(np.random.random((1000,50))))\n",
    "output = []\n",
    "for i in range(len(fit_FCI_funs)):\n",
    "    t = %timeit -q -o fit_FCI_funs[i](v,500)\n",
    "    output.append( [ fit_FCI_funs[i].__name__ , str(t) ])\n",
    "print(tabulate(output, headers=[\"Function\",\"Timing\"]))"
   ]
  },
  {
   "cell_type": "markdown",
   "metadata": {},
   "source": [
    "I'm jitting this because I think that it may compromise the parallelization of local functions later!"
   ]
  },
  {
   "cell_type": "markdown",
   "metadata": {},
   "source": [
    "## local_FCI\n",
    "\n",
    "May benefit from jitting, if the call to an external function does not ruin everything."
   ]
  },
  {
   "cell_type": "code",
   "execution_count": 52,
   "metadata": {},
   "outputs": [],
   "source": [
    "def local_FCI_np(dataset, center, ks):\n",
    "    neighbours = dataset[np.argsort(np.linalg.norm( dataset - dataset[center], axis=1))[0:ks[-1]]]    \n",
    "  \n",
    "    local = np.empty(shape=(0,5))\n",
    "    for k in ks:\n",
    "        fit = fit_FCI_jit_fm(pyfci.FCI_MC(pyfci.center_and_normalize( neighbours[0:k] ) ))\n",
    "        local = np.append(local, [[ k, np.linalg.norm( neighbours[k-1] - neighbours[0] ), fit[0], fit[1], fit[2] ]], axis=0 )\n",
    "\n",
    "    return local\n",
    "\n",
    "def local_FCI_cl(dataset, center, ks):\n",
    "    \n",
    "    n = len(dataset)\n",
    "    dists = np.empty(n) \n",
    "    for i in range(n):\n",
    "        dists[i] = np.linalg.norm( dataset[i] - dataset[center])\n",
    "    neighbours = dataset[np.argsort(dists)[0:ks[-1]]]    \n",
    "  \n",
    "    local = np.empty(shape=(len(ks),5))\n",
    "    for i in range(len(ks)):\n",
    "        k = ks[i]\n",
    "        fit = fit_FCI_jit_fm( pyfci.FCI_MC( pyfci.center_and_normalize( neighbours[0:k] ) ) )\n",
    "        local[i] = [ k, np.linalg.norm( neighbours[k-1] - neighbours[0] ), fit[0], fit[1], fit[2] ]\n",
    "\n",
    "    return local\n",
    "\n",
    "@jit(forceobj=True)\n",
    "def local_FCI_jit(dataset, center, ks):\n",
    "    \n",
    "    n = len(dataset)\n",
    "    dists = np.empty(n) \n",
    "    for i in range(n):\n",
    "        dists[i] = np.linalg.norm( dataset[i] - dataset[center])\n",
    "    neighbours = dataset[np.argsort(dists)[0:ks[-1]]]    \n",
    "  \n",
    "    local = np.empty(shape=(len(ks),5))\n",
    "    for i in prange(len(ks)):\n",
    "        k = ks[i]\n",
    "        fit = fit_FCI_jit_fm( pyfci.FCI_MC( pyfci.center_and_normalize( neighbours[0:k] ) ) )\n",
    "        local[i] = [ k, np.linalg.norm( neighbours[k-1] - neighbours[0] ), fit[0], fit[1], fit[2] ]\n",
    "\n",
    "    return local\n",
    "\n",
    "@jit(forceobj=True,fastmath=True)\n",
    "def local_FCI_jit_fm(dataset, center, ks):\n",
    "    \n",
    "    n = len(dataset)\n",
    "    dists = np.empty(n) \n",
    "    for i in range(n):\n",
    "        dists[i] = np.linalg.norm( dataset[i] - dataset[center])\n",
    "    neighbours = dataset[np.argsort(dists)[0:ks[-1]]]    \n",
    "  \n",
    "    local = np.empty(shape=(len(ks),5))\n",
    "    for i in prange(len(ks)):\n",
    "        k = ks[i]\n",
    "        fit = fit_FCI_jit_fm( pyfci.FCI_MC( pyfci.center_and_normalize( neighbours[0:k] ) ) )\n",
    "        local[i] = [ k, np.linalg.norm( neighbours[k-1] - neighbours[0] ), fit[0], fit[1], fit[2] ]\n",
    "\n",
    "    return local\n",
    "\n",
    "@jit(forceobj=True,parallel=True,fastmath=False)\n",
    "def local_FCI_jit_p(dataset, center, ks):\n",
    "    \n",
    "    n = len(dataset)\n",
    "    dists = np.empty(n) \n",
    "    for i in range(n):\n",
    "        dists[i] = np.linalg.norm( dataset[i] - dataset[center])\n",
    "    neighbours = dataset[np.argsort(dists)[0:ks[-1]]]    \n",
    "  \n",
    "    local = np.empty(shape=(len(ks),5))\n",
    "    for i in prange(len(ks)):\n",
    "        k = ks[i]\n",
    "        fit = fit_FCI_jit_fm( pyfci.FCI_MC( pyfci.center_and_normalize( neighbours[0:k] ) ) )\n",
    "        local[i] = [ k, np.linalg.norm( neighbours[k-1] - neighbours[0] ), fit[0], fit[1], fit[2] ]\n",
    "\n",
    "    return local\n",
    "\n",
    "@jit(forceobj=True,parallel=True,fastmath=True)\n",
    "def local_FCI_jit_p_fm(dataset, center, ks):\n",
    "    \n",
    "    n = len(dataset)\n",
    "    dists = np.empty(n) \n",
    "    for i in range(n):\n",
    "        dists[i] = np.linalg.norm( dataset[i] - dataset[center])\n",
    "    neighbours = dataset[np.argsort(dists)[0:ks[-1]]]    \n",
    "  \n",
    "    local = np.empty(shape=(len(ks),5))\n",
    "    for i in prange(len(ks)):\n",
    "        k = ks[i]\n",
    "        fit = fit_FCI_jit_fm( pyfci.FCI_MC( pyfci.center_and_normalize( neighbours[0:k] ) ) )\n",
    "        local[i] = [ k, np.linalg.norm( neighbours[k-1] - neighbours[0] ), fit[0], fit[1], fit[2] ]\n",
    "\n",
    "    return local\n",
    "\n",
    "\n",
    "@njit(parallel=True,fastmath=True)\n",
    "def ordmy(dataset,center):\n",
    "    n = len(dataset)\n",
    "    dists = np.empty(n) \n",
    "    for i in prange(n):\n",
    "        dists[i] = np.linalg.norm( dataset[i] - dataset[center])\n",
    "    return dataset[np.argsort(dists)]   \n",
    "\n",
    "def local_FCI_jit2(dataset, center, ks):\n",
    "    \n",
    "    neighbours = ordmy(dataset,center)[0:ks[-1]]\n",
    "  \n",
    "    local = np.empty(shape=(len(ks),5))\n",
    "    for i in prange(len(ks)):\n",
    "        k = ks[i]\n",
    "        fit = fit_FCI_jit_fm( pyfci.FCI_MC( pyfci.center_and_normalize( neighbours[0:k] ) ) )\n",
    "        local[i] = [ k, np.linalg.norm( neighbours[k-1] - neighbours[0] ), fit[0], fit[1], fit[2] ]\n",
    "\n",
    "    return local\n",
    "\n",
    "local_FCI_funs = [local_FCI_cl,local_FCI_np,local_FCI_jit,local_FCI_jit2]"
   ]
  },
  {
   "cell_type": "code",
   "execution_count": 53,
   "metadata": {},
   "outputs": [
    {
     "name": "stdout",
     "output_type": "stream",
     "text": [
      "Function        Ready?\n",
      "--------------  --------\n",
      "local_FCI_cl    Done\n",
      "local_FCI_np    Done\n",
      "local_FCI_jit   Done\n",
      "local_FCI_jit2  Done\n"
     ]
    }
   ],
   "source": [
    "# compile with trivial input\n",
    "v = np.random.random((50,2))\n",
    "ks= [4,6]\n",
    "output = []\n",
    "for i in range(len(local_FCI_funs)):\n",
    "    local_FCI_funs[i](v,0,ks)\n",
    "    output.append( [ local_FCI_funs[i].__name__ , \"Done\" ])\n",
    "print(tabulate(output, headers=[\"Function\",\"Ready?\"]))"
   ]
  },
  {
   "cell_type": "code",
   "execution_count": 55,
   "metadata": {},
   "outputs": [
    {
     "name": "stdout",
     "output_type": "stream",
     "text": [
      "Easy input | shape: 1000,10 | ks: 20,30,40,50\n",
      "Function        Timing\n",
      "--------------  ---------------------------------------------------------------------\n",
      "local_FCI_cl    81.9 ms ± 7.37 ms per loop (mean ± std. dev. of 7 runs, 1 loop each)\n",
      "local_FCI_np    79.2 ms ± 269 µs per loop (mean ± std. dev. of 7 runs, 10 loops each)\n",
      "local_FCI_jit   78.6 ms ± 283 µs per loop (mean ± std. dev. of 7 runs, 10 loops each)\n",
      "local_FCI_jit2  78.6 ms ± 1.2 ms per loop (mean ± std. dev. of 7 runs, 10 loops each)\n"
     ]
    }
   ],
   "source": [
    "# compute with easy input\n",
    "print(\"Easy input | shape: 1000,10 | ks: 20,30,40,50\")\n",
    "v = np.random.random((1000,10))\n",
    "ks= [20,30,40,50]\n",
    "output = []\n",
    "for i in range(len(local_FCI_funs)):\n",
    "    t = %timeit -q -o local_FCI_funs[i](v,0,ks)\n",
    "    output.append( [ local_FCI_funs[i].__name__ , str(t) ])\n",
    "print(tabulate(output, headers=[\"Function\",\"Timing\"]))"
   ]
  },
  {
   "cell_type": "code",
   "execution_count": null,
   "metadata": {},
   "outputs": [],
   "source": []
  }
 ],
 "metadata": {
  "kernelspec": {
   "display_name": "Python 3 (ipykernel)",
   "language": "python",
   "name": "python3"
  },
  "language_info": {
   "codemirror_mode": {
    "name": "ipython",
    "version": 3
   },
   "file_extension": ".py",
   "mimetype": "text/x-python",
   "name": "python",
   "nbconvert_exporter": "python",
   "pygments_lexer": "ipython3",
   "version": "3.11.2"
  }
 },
 "nbformat": 4,
 "nbformat_minor": 4
}
