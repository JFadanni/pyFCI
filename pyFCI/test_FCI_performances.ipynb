{
 "cells": [
  {
   "cell_type": "markdown",
   "metadata": {},
   "source": [
    "# Test the performances of different FCI implementations"
   ]
  },
  {
   "cell_type": "code",
   "execution_count": 1,
   "metadata": {},
   "outputs": [],
   "source": [
    "import numpy as np\n",
    "import matplotlib.pyplot as plt\n",
    "import math\n",
    "import scipy as scy\n",
    "import scipy.optimize as scyopt\n",
    "from scipy.spatial.distance import pdist\n",
    "from sympy import gamma, Float\n",
    "from numba import jit,njit,prange,vectorize,float64\n",
    "from sklearn.metrics import pairwise_distances\n",
    "import h5py "
   ]
  },
  {
   "cell_type": "code",
   "execution_count": 2,
   "metadata": {},
   "outputs": [],
   "source": [
    "from tqdm.notebook import tqdm_notebook"
   ]
  },
  {
   "cell_type": "code",
   "execution_count": 3,
   "metadata": {},
   "outputs": [],
   "source": [
    "rng = np.random.default_rng()"
   ]
  },
  {
   "cell_type": "code",
   "execution_count": 4,
   "metadata": {},
   "outputs": [],
   "source": [
    "def center_and_normalize(points):\n",
    "    \"\"\"\n",
    "    Center and normalize a dataset of points.\n",
    "\n",
    "    Parameters\n",
    "    ----------\n",
    "    points : array of shape (n_samples, d)\n",
    "        Input data.\n",
    "\n",
    "    Returns\n",
    "    -------\n",
    "    normalized_points : array of shape (n_samples, d)\n",
    "        Centered and normalized points.\n",
    "    \"\"\"\n",
    "    n_samples, d = points.shape\n",
    "    mean = np.mean(points, axis=0)\n",
    "    centered_points = points - mean\n",
    "\n",
    "    norms = np.linalg.norm(centered_points, axis=1)\n",
    "    normalized_points = centered_points / norms[:, np.newaxis]\n",
    "\n",
    "    return normalized_points"
   ]
  },
  {
   "cell_type": "code",
   "execution_count": 5,
   "metadata": {},
   "outputs": [],
   "source": [
    "@jit(forceobj=True,fastmath=True)\n",
    "def analytical_FCI(x,d,x0=1):\n",
    "    \"\"\"\n",
    "    Compute the analytical average full correlation integral on a **d**-dimensional sphere at **x**\n",
    "\n",
    "    :param x: a real number in (0,2), or a vector of real numbers in (0,2)\n",
    "    :param d: a real positive number\n",
    "    :param x0: a real number (should be close to 1). It's such that f(x0)=0.5\n",
    "    :returns: a real number, or a numpy vector of real numbers\n",
    "    \"\"\"\n",
    "    return  0.5 * ( 1 + float(Float((gamma((1+d)/2)) / (np.sqrt(np.pi) * gamma(d/2) ))) * (-2+(x/x0)**2) * scy.special.hyp2f1( 0.5, 1-d/2, 3/2, 1/4 * (-2+(x/x0)**2)**2 ) )\n",
    "@jit(forceobj=True,fastmath=True)\n",
    "def fit_FCI(rho, samples=500, threshold=0.1):\n",
    "    \"\"\"\n",
    "    Given an empirical full correlation integral **rho**, it tries to fit it to the analytical_FCI curve.\n",
    "    To avoid slow-downs, only a random sample of **samples** points is used in the fitting.\n",
    "    If the fit fails, it outputs [0,0,0]\n",
    "\n",
    "    :param rho: vector of shape (N,2) of points in (0,2)x(0,1)\n",
    "    :param samples: a positive integer\n",
    "    :returns: the fitted dimension, the fitted x0 parameter and the mean square error between the fitted curve and the empirical points\n",
    "    \"\"\"\n",
    "    samples = min( len(rho),samples )\n",
    "    data = rho[np.random.choice(len(rho),samples,replace=False)]\n",
    "\n",
    "    fit = scyopt.curve_fit( analytical_FCI, data[:,0], data[:,1] )\n",
    "    if abs(fit[0][1] - 1)>threshold:\n",
    "        return [0,0,0]\n",
    "    else:\n",
    "        mse = np.sqrt(np.mean([ (pt[1] - analytical_FCI(pt[0],fit[0][0],fit[0][1]))**2 for pt in data ]))\n",
    "        return [fit[0][0]+1,fit[0][1],mse]"
   ]
  },
  {
   "cell_type": "markdown",
   "metadata": {},
   "source": [
    "## Dataset generation"
   ]
  },
  {
   "cell_type": "code",
   "execution_count": 6,
   "metadata": {},
   "outputs": [],
   "source": [
    "def arc_generator(theta, r=1, dpr=1000):\n",
    "    \"\"\"\n",
    "    theta: angle in radians\n",
    "    r: radius\n",
    "    dpr: dots per radian\n",
    "    \"\"\"\n",
    "    N = int(dpr * theta)\n",
    "    coords = np.zeros((N, 2))\n",
    "    theta_arc = rng.uniform(0, 1, N) * theta\n",
    "    coords[:, 0] = r * np.cos(theta_arc)\n",
    "    coords[:, 1] = r * np.sin(theta_arc)\n",
    "    return coords"
   ]
  },
  {
   "cell_type": "code",
   "execution_count": 7,
   "metadata": {},
   "outputs": [],
   "source": [
    "from sklearn.datasets import make_swiss_roll"
   ]
  },
  {
   "cell_type": "code",
   "execution_count": 8,
   "metadata": {},
   "outputs": [],
   "source": [
    "def make_swiss_roll_f(n_samples=5000, noise=0.):\n",
    "    swiss_roll, t = make_swiss_roll(n_samples, noise=noise)\n",
    "    return swiss_roll, t"
   ]
  },
  {
   "cell_type": "code",
   "execution_count": 9,
   "metadata": {},
   "outputs": [],
   "source": [
    "arc = arc_generator(np.pi)\n",
    "swiss_roll, t = make_swiss_roll_f(7000)"
   ]
  },
  {
   "cell_type": "code",
   "execution_count": 10,
   "metadata": {},
   "outputs": [
    {
     "name": "stdout",
     "output_type": "stream",
     "text": [
      "(3141, 2)\n",
      "(7000, 3)\n"
     ]
    }
   ],
   "source": [
    "print(arc.shape)\n",
    "print(swiss_roll.shape)"
   ]
  },
  {
   "cell_type": "markdown",
   "metadata": {},
   "source": [
    "## Performance tests FCI"
   ]
  },
  {
   "cell_type": "code",
   "execution_count": 11,
   "metadata": {},
   "outputs": [],
   "source": [
    "def FCI(dataset, debug=False, dataset_name=\"\"):\n",
    "    \"\"\"\n",
    "    Compute the full correlation integral of a **dataset** of N d-dimensional points by exact enumeration\n",
    "\n",
    "    :param dataset: vector of shape (N,d)\n",
    "    :returns: vector of shape (N(N-1)/2,2)\n",
    "    \"\"\"\n",
    "    num_points = len(dataset)\n",
    "    num_pairs = num_points * (num_points - 1) // 2\n",
    "    sorted_distances = np.sort(pdist(dataset))\n",
    "    if debug:\n",
    "        with h5py.File(f'distances_FCI_{dataset_name}.h5', 'w') as f:\n",
    "            f['distances'] = sorted_distances\n",
    "    correlation_integral = np.empty((num_pairs, 2))\n",
    "    correlation_integral[:,0] = sorted_distances\n",
    "    correlation_integral[:,1] = np.arange(0,num_pairs)/num_pairs\n",
    "    return correlation_integral"
   ]
  },
  {
   "cell_type": "code",
   "execution_count": 12,
   "metadata": {},
   "outputs": [],
   "source": [
    "def FCI_sklearn(dataset):\n",
    "    \"\"\"\n",
    "    Compute the full correlation integral of a **dataset** of N d-dimensional points by exact enumeration\n",
    "\n",
    "    :param dataset: vector of shape (N,d)\n",
    "    :returns: vector of shape (N(N-1)/2,2)\n",
    "    \"\"\"\n",
    "    num_points = len(dataset)\n",
    "    num_pairs = num_points * (num_points - 1) // 2\n",
    "    #pair_distances = pdist(dataset)\n",
    "    pair_distances = pairwise_distances(dataset,n_jobs=4)\n",
    "    indexes_triu = np.triu_indices(num_points,1)\n",
    "    sorted_distances = np.sort(pair_distances[indexes_triu])\n",
    "    correlation_integral = np.empty((num_pairs, 2))\n",
    "    correlation_integral[:,0] = sorted_distances\n",
    "    correlation_integral[:,1] = np.arange(0,num_pairs)/num_pairs\n",
    "    return correlation_integral"
   ]
  },
  {
   "cell_type": "code",
   "execution_count": 13,
   "metadata": {},
   "outputs": [],
   "source": [
    "@njit(parallel=True,fastmath=True)\n",
    "def FCI_original(dataset):\n",
    "    \"\"\"\n",
    "    Compute the full correlation integral of a **dataset** of N d-dimensional points by exact enumeration\n",
    "\n",
    "    :param dataset: vector of shape (N,d)\n",
    "    :returns: vector of shape (N(N-1)/2,2)\n",
    "    \"\"\"\n",
    "    n = len(dataset)\n",
    "    m = int(n*(n-1)/2)\n",
    "    rs = np.empty(m)\n",
    "    for i in prange(n):\n",
    "        for j in prange(i+1,n):\n",
    "            c = int( -0.5 * i *  (1 + i - 2 * n) + (j - i) - 1 )\n",
    "            rs[c] = np.linalg.norm(dataset[i]-dataset[j]) \n",
    "    rs = np.sort(rs)\n",
    "    r = np.empty((m,2))\n",
    "    for i in prange(m):\n",
    "        r[i] = np.array([ rs[i] , i*1./m ])\n",
    "    return r"
   ]
  },
  {
   "cell_type": "code",
   "execution_count": 14,
   "metadata": {},
   "outputs": [],
   "source": [
    "norm_arc = center_and_normalize(arc)\n",
    "norm_swiss = center_and_normalize(swiss_roll)"
   ]
  },
  {
   "cell_type": "markdown",
   "metadata": {},
   "source": [
    "### FCI"
   ]
  },
  {
   "cell_type": "code",
   "execution_count": 15,
   "metadata": {},
   "outputs": [
    {
     "name": "stdout",
     "output_type": "stream",
     "text": [
      "[1.700655042784429, 0.9999942178973584, 0.020371054620964404]\n"
     ]
    }
   ],
   "source": [
    "fci_fci_arc = FCI(norm_arc)\n",
    "fit_fci_arc = fit_FCI(fci_fci_arc)\n",
    "print(fit_fci_arc)"
   ]
  },
  {
   "cell_type": "code",
   "execution_count": 16,
   "metadata": {},
   "outputs": [
    {
     "name": "stdout",
     "output_type": "stream",
     "text": [
      "532 ms ± 10.7 ms per loop (mean ± std. dev. of 7 runs, 1 loop each)\n"
     ]
    }
   ],
   "source": [
    "%timeit fci_fci_arc = FCI(norm_arc)"
   ]
  },
  {
   "cell_type": "code",
   "execution_count": 17,
   "metadata": {},
   "outputs": [
    {
     "name": "stdout",
     "output_type": "stream",
     "text": [
      "[2.9321771211727867, 0.9996412586136583, 0.002881128314998355]\n"
     ]
    }
   ],
   "source": [
    "fci_fci_swiss = FCI(norm_swiss)\n",
    "fit_fci_swiss = fit_FCI(fci_fci_swiss)\n",
    "print(fit_fci_swiss)"
   ]
  },
  {
   "cell_type": "code",
   "execution_count": 18,
   "metadata": {},
   "outputs": [
    {
     "name": "stdout",
     "output_type": "stream",
     "text": [
      "2.8 s ± 9.49 ms per loop (mean ± std. dev. of 7 runs, 1 loop each)\n"
     ]
    }
   ],
   "source": [
    "%timeit fci_fci_swiss = FCI(norm_swiss)"
   ]
  },
  {
   "cell_type": "markdown",
   "metadata": {},
   "source": [
    "### FCI original"
   ]
  },
  {
   "cell_type": "code",
   "execution_count": 19,
   "metadata": {},
   "outputs": [
    {
     "name": "stdout",
     "output_type": "stream",
     "text": [
      "[1.7066683089494894, 0.9999991292618952, 0.020237749563553044]\n"
     ]
    }
   ],
   "source": [
    "fci_original_arc = FCI_original(norm_arc)\n",
    "fit_original_arc = fit_FCI(fci_original_arc)\n",
    "print(fit_original_arc)"
   ]
  },
  {
   "cell_type": "code",
   "execution_count": 20,
   "metadata": {},
   "outputs": [
    {
     "name": "stdout",
     "output_type": "stream",
     "text": [
      "851 ms ± 22.8 ms per loop (mean ± std. dev. of 7 runs, 1 loop each)\n"
     ]
    }
   ],
   "source": [
    "%timeit fci_original_arc = FCI_original(norm_arc)"
   ]
  },
  {
   "cell_type": "code",
   "execution_count": 21,
   "metadata": {},
   "outputs": [
    {
     "name": "stdout",
     "output_type": "stream",
     "text": [
      "[2.94726685126713, 0.9996110409287082, 0.002506553539636178]\n"
     ]
    }
   ],
   "source": [
    "fci_original_swiss = FCI_original(norm_swiss)\n",
    "fit_original_swiss = fit_FCI(fci_original_swiss)\n",
    "print(fit_original_swiss)"
   ]
  },
  {
   "cell_type": "code",
   "execution_count": 22,
   "metadata": {},
   "outputs": [
    {
     "name": "stdout",
     "output_type": "stream",
     "text": [
      "4.49 s ± 87.3 ms per loop (mean ± std. dev. of 7 runs, 1 loop each)\n"
     ]
    }
   ],
   "source": [
    "%timeit fci_original_swiss = FCI_original(norm_swiss)"
   ]
  },
  {
   "cell_type": "markdown",
   "metadata": {},
   "source": [
    "### FCI sklearn"
   ]
  },
  {
   "cell_type": "code",
   "execution_count": 23,
   "metadata": {},
   "outputs": [
    {
     "name": "stdout",
     "output_type": "stream",
     "text": [
      "[1.7052585107343785, 0.9999995638429634, 0.0205141842036155]\n"
     ]
    }
   ],
   "source": [
    "fci_sklearn_arc = FCI_sklearn(norm_arc)\n",
    "fit_sklearn_arc = fit_FCI(fci_sklearn_arc)\n",
    "print(fit_sklearn_arc)"
   ]
  },
  {
   "cell_type": "code",
   "execution_count": 24,
   "metadata": {},
   "outputs": [
    {
     "name": "stdout",
     "output_type": "stream",
     "text": [
      "739 ms ± 26.9 ms per loop (mean ± std. dev. of 7 runs, 1 loop each)\n"
     ]
    }
   ],
   "source": [
    "%timeit fci_sklearn_arc = FCI_sklearn(norm_arc)"
   ]
  },
  {
   "cell_type": "code",
   "execution_count": 25,
   "metadata": {},
   "outputs": [
    {
     "name": "stdout",
     "output_type": "stream",
     "text": [
      "[2.9648532735354625, 0.9995862983858115, 0.0022983559187984485]\n"
     ]
    }
   ],
   "source": [
    "fci_sklearn_swiss = FCI_sklearn(norm_swiss)\n",
    "fit_sklearn_swiss = fit_FCI(fci_sklearn_swiss)\n",
    "print(fit_sklearn_swiss)"
   ]
  },
  {
   "cell_type": "code",
   "execution_count": 26,
   "metadata": {},
   "outputs": [
    {
     "name": "stdout",
     "output_type": "stream",
     "text": [
      "3.67 s ± 37.5 ms per loop (mean ± std. dev. of 7 runs, 1 loop each)\n"
     ]
    }
   ],
   "source": [
    "%timeit fci_sklearn_swiss = FCI_sklearn(norm_swiss)"
   ]
  },
  {
   "cell_type": "markdown",
   "metadata": {},
   "source": [
    "## Performance Tests Local FCI"
   ]
  },
  {
   "cell_type": "code",
   "execution_count": 27,
   "metadata": {},
   "outputs": [],
   "source": [
    "from scipy.spatial import KDTree"
   ]
  },
  {
   "cell_type": "code",
   "execution_count": 28,
   "metadata": {},
   "outputs": [],
   "source": [
    "def compute_id(coords,method = \"full\", norm = True, debug=False, dataset_name=\"\"):\n",
    "    \"\"\"\n",
    "    compute the ID using FCI\n",
    "    default FCI; optional Montecarlo FCI\n",
    "    \"\"\"\n",
    "    if norm:\n",
    "        coord_norm = center_and_normalize(coords)\n",
    "    else:\n",
    "        coord_norm = coords\n",
    "    if method == \"full\":\n",
    "        fci = FCI(coord_norm, debug = debug, dataset_name = dataset_name)\n",
    "    elif method == \"montecarlo\" or method == \"mc\":\n",
    "        fci = FCI_MC(coord_norm)\n",
    "    else:\n",
    "        raise ValueError(\"method must be 'montecarlo' or 'mc' or 'full'\")\n",
    "        return 0\n",
    "    fit = fit_FCI(fci)\n",
    "    return fit[0], fci"
   ]
  },
  {
   "cell_type": "code",
   "execution_count": 29,
   "metadata": {},
   "outputs": [],
   "source": [
    "def local_FCI_dist(dataset, centers, ks, fci_method = \"full\", debug=False, dataset_name=\"\"):\n",
    "    \"\"\"\n",
    "    Given a **dataset** of N d-dimensional points, the index **center** of one of the points and a list of possible neighbourhoods **ks**, it estimates the local intrinsic dimension by using **fit_FCI()** of the reduced dataset of the first k-nearest-neighbours of **dataset[center]**, for each k in **ks**\n",
    "\n",
    "    At the moment, it uses FCI_MC and fit FCI with default parameters\n",
    "\n",
    "    :param dataset: a vector of shape (N,d)\n",
    "    :param centers: the indexes of a set of points in **dataset**\n",
    "    :param ks: list or array of increasing positive integers\n",
    "    :param fci_method: string indicating the FCI variant to use for ID computation. default 'full', other options: 'montecarlo'('mc')\n",
    "    :returns local: a vector of shape (len(centers),len(ks),2). For each k in **ks**, returns the list [ k, fitted dimension] \n",
    "    :returns selected_dists: a vector of shape (len(centers),len(ks)). For each k in **ks**, returns the list of the distances of the first k nearest neighbors of **dataset[centers]** \n",
    "    :returns selected_neighbors_indexes: a vector of shape (len(centers),len(ks)). For each k in **ks**, returns the list of the indexes of the first k nearest neighbors of **dataset[centers]**\n",
    "    \"\"\"\n",
    "    tree = KDTree(dataset)\n",
    "  \n",
    "    local = np.empty(shape=(len(centers),len(ks),2))\n",
    "    k_max = ks[-1]\n",
    "    selected_dists, neighbors_indexes = tree.query(dataset[centers], k_max + 1, workers=-1)\n",
    "\n",
    "    #for i in tqdm_notebook(range(len(centers))):\n",
    "    for i in prange(len(centers)):\n",
    "        #norm_dataset = center_and_normalize(dataset[neighbors_indexes[i][:-1]])\n",
    "        for j, k in enumerate(ks):\n",
    "            #neighbors = norm_dataset[:k]\n",
    "            #fit, fci = compute_id(neighbors, fci_method, debug = debug, norm=False, dataset_name = f\"{dataset_name}_{centers[i]}_{k}\")\n",
    "            neighbors = dataset[neighbors_indexes[i][:k]]\n",
    "            fit, fci = compute_id(neighbors, fci_method, debug = debug, dataset_name = f\"{dataset_name}_{centers[i]}_{k}\")\n",
    "            local[i][j] = [k, fit]\n",
    "    return local, selected_dists, neighbors_indexes"
   ]
  },
  {
   "cell_type": "code",
   "execution_count": 30,
   "metadata": {},
   "outputs": [],
   "source": [
    "def local_FCI(dataset, center, ks, method = \"mc\"):\n",
    "    \"\"\"\n",
    "    Given a **dataset** of N d-dimensional points, the index **center** of one of the points and a list of possible neighbourhoods **ks**, it estimates the local intrinsic dimension by using **fit_FCI()** of the reduced dataset of the first k-nearest-neighbours of **dataset[center]**, for each k in **ks**\n",
    "\n",
    "    At the moment, it uses FCI_MC and fit FCI with default parameters\n",
    "\n",
    "    :param dataset: a vector of shape (N,d)\n",
    "    :param center: the index of a point in **dataset**\n",
    "    :param ks: list of increasing positive integers\n",
    "    :param method: either \"mc\" or \"full\" (default = \"mc\") FCI method used to compute the local FCI\n",
    "    :returns: a vector of shape (len(ks),5). For each k in **ks**, returns the list [ k, distance between dataset[center] and the k-th neighbour, fitted dimension, fitted x0, the mean square error of the fit ] \n",
    "    \"\"\"\n",
    "    neighbours = dataset[np.argsort(np.linalg.norm( dataset - dataset[center], axis=1))[0:ks[-1]]]    \n",
    "  \n",
    "    local = np.empty(shape=(len(ks),5))\n",
    "    if method == \"mc\":\n",
    "        for i, k in enumerate(ks):\n",
    "            fit = fit_FCI( FCI_MC( center_and_normalize( neighbours[0:k] ) ) )\n",
    "            local[i] = [ k, np.linalg.norm( neighbours[k-1] - neighbours[0] ), fit[0], fit[1], fit[2] ]\n",
    "    elif method == \"full\":\n",
    "        for i, k in enumerate(ks):\n",
    "            fit = fit_FCI( FCI( center_and_normalize( neighbours[0:k] ) ) )\n",
    "            local[i] = [ k, np.linalg.norm( neighbours[k-1] - neighbours[0] ), fit[0], fit[1], fit[2] ]\n",
    "    else:\n",
    "        raise ValueError(\"method must be 'mc' or 'full'\")\n",
    "\n",
    "    return local"
   ]
  },
  {
   "cell_type": "code",
   "execution_count": 31,
   "metadata": {},
   "outputs": [],
   "source": [
    "def local_FCI_wrapper(dataset, centers, ks, method = \"full\"):\n",
    "    local = np.empty(shape=(len(centers),len(ks),5))\n",
    "    #for i, center in tqdm_notebook(enumerate(centers)):\n",
    "    for i, center in enumerate(centers):\n",
    "        local[i] = local_FCI(dataset, center, ks, method)\n",
    "    return local"
   ]
  },
  {
   "cell_type": "code",
   "execution_count": 32,
   "metadata": {},
   "outputs": [],
   "source": [
    "from sklearn.metrics import pairwise_distances"
   ]
  },
  {
   "cell_type": "code",
   "execution_count": 33,
   "metadata": {},
   "outputs": [],
   "source": [
    "def local_FCI_fast(dataset, centers, ks, fci_method = \"full\", debug=False, dataset_name=\"\"):\n",
    "    \"\"\"\n",
    "    Given a **dataset** of N d-dimensional points, the index **center** of one of the points and a list of possible neighbourhoods **ks**, it estimates the local intrinsic dimension by using **fit_FCI()** of the reduced dataset of the first k-nearest-neighbours of **dataset[center]**, for each k in **ks**\n",
    "\n",
    "    At the moment, it uses FCI_MC and fit FCI with default parameters\n",
    "\n",
    "    :param dataset: a vector of shape (N,d)\n",
    "    :param centers: the indexes of a set of points in **dataset**\n",
    "    :param ks: list or array of increasing positive integers\n",
    "    :param fci_method: string indicating the FCI variant to use for ID computation. default 'full', other options: 'montecarlo'('mc')\n",
    "    :returns local: a vector of shape (len(centers),len(ks),2). For each k in **ks**, returns the list [ k, fitted dimension] \n",
    "    :returns selected_dists: a vector of shape (len(centers),len(ks)). For each k in **ks**, returns the list of the distances of the first k nearest neighbors of **dataset[centers]** \n",
    "    :returns selected_neighbors_indexes: a vector of shape (len(centers),len(ks)). For each k in **ks**, returns the list of the indexes of the first k nearest neighbors of **dataset[centers]**\n",
    "    \"\"\"\n",
    "    tree = KDTree(dataset)\n",
    "  \n",
    "    local = np.empty(shape=(len(centers),len(ks),2))\n",
    "    k_max = ks[-1]\n",
    "    neighbors_dists, neighbors_indexes = tree.query(dataset[centers], k_max + 1, workers=-1)\n",
    "\n",
    "    #for i in tqdm_notebook(range(len(centers))):\n",
    "    for i in range(len(centers)):\n",
    "        selected_data = dataset[neighbors_indexes[i][:-1]]\n",
    "        normalized = center_and_normalize(selected_data)\n",
    "        pair_dist = pairwise_distances(normalized, n_jobs=-1)\n",
    "        if debug:\n",
    "            print(pair_dist[:3,:3])\n",
    "            fig, ax = plt.subplots()\n",
    "        for j, k in enumerate(ks):\n",
    "            n_points = k * ( k - 1 ) // 2\n",
    "            indexes  = np.triu_indices(k,1)\n",
    "            selected_dists = np.sort(pair_dist[indexes])\n",
    "            correlation_integral = np.array([selected_dists, np.arange(0,n_points)/n_points]).T\n",
    "            if debug:\n",
    "                print(selected_dists[:3])\n",
    "                print(selected_dists.shape,correlation_integral.shape, n_points, indexes[0][0],indexes[0][-1],indexes[1][0], indexes[1][-1],k)\n",
    "                ax.plot(correlation_integral[:,0], correlation_integral[:,1])\n",
    "                with h5py.File(f\"distances_{dataset_name}_{centers[i]}_fast.hdf5\", \"a\") as f:\n",
    "                    f[f\"distances_{k}\"] = selected_dists\n",
    "            fit = fit_FCI(correlation_integral)\n",
    "            local[i][j] = [k, fit[0]]\n",
    "        if debug: \n",
    "            plt.show()\n",
    "\n",
    "    return local, neighbors_dists, neighbors_indexes"
   ]
  },
  {
   "cell_type": "code",
   "execution_count": 34,
   "metadata": {},
   "outputs": [],
   "source": [
    "centers_arc = rng.choice(len(arc), size=3, replace=False)"
   ]
  },
  {
   "cell_type": "code",
   "execution_count": 35,
   "metadata": {},
   "outputs": [],
   "source": [
    "centers_swiss = rng.choice(len(swiss_roll), size=3, replace=False)"
   ]
  },
  {
   "cell_type": "code",
   "execution_count": 36,
   "metadata": {},
   "outputs": [],
   "source": [
    "neighbors = [10, 30, 50,100, 200, 300, 400, 500]"
   ]
  },
  {
   "cell_type": "markdown",
   "metadata": {},
   "source": [
    "### Local FCI dist"
   ]
  },
  {
   "cell_type": "code",
   "execution_count": 37,
   "metadata": {},
   "outputs": [],
   "source": [
    "local_dist_arc_d = local_FCI_dist(arc, centers_arc, neighbors)\n",
    "local_dist_swiss_d = local_FCI_dist(swiss_roll, centers_swiss, neighbors)"
   ]
  },
  {
   "cell_type": "code",
   "execution_count": 38,
   "metadata": {},
   "outputs": [
    {
     "name": "stdout",
     "output_type": "stream",
     "text": [
      "13.7 s ± 432 ms per loop (mean ± std. dev. of 7 runs, 1 loop each)\n",
      "2.8 s ± 218 ms per loop (mean ± std. dev. of 7 runs, 1 loop each)\n"
     ]
    }
   ],
   "source": [
    "%timeit local_FCI_dist(arc, centers_arc, neighbors)\n",
    "%timeit local_FCI_dist(swiss_roll, centers_swiss, neighbors)"
   ]
  },
  {
   "cell_type": "markdown",
   "metadata": {},
   "source": [
    "### Local FCI"
   ]
  },
  {
   "cell_type": "code",
   "execution_count": 39,
   "metadata": {},
   "outputs": [],
   "source": [
    "local_dim_arc_w = local_FCI_wrapper(arc, centers_arc, neighbors)\n",
    "local_dim_swiss_w = local_FCI_wrapper(swiss_roll, centers_swiss, neighbors)"
   ]
  },
  {
   "cell_type": "code",
   "execution_count": 40,
   "metadata": {},
   "outputs": [
    {
     "name": "stdout",
     "output_type": "stream",
     "text": [
      "14.5 s ± 230 ms per loop (mean ± std. dev. of 7 runs, 1 loop each)\n",
      "2.86 s ± 304 ms per loop (mean ± std. dev. of 7 runs, 1 loop each)\n"
     ]
    }
   ],
   "source": [
    "%timeit local_FCI_wrapper(arc, centers_arc, neighbors)\n",
    "%timeit local_FCI_wrapper(swiss_roll, centers_swiss, neighbors)"
   ]
  },
  {
   "cell_type": "markdown",
   "metadata": {},
   "source": [
    "### Local FCI fast"
   ]
  },
  {
   "cell_type": "code",
   "execution_count": 41,
   "metadata": {},
   "outputs": [],
   "source": [
    "local_dim_arc = local_FCI_dist(arc, centers_arc[:2], neighbors[:3], debug=True, dataset_name=\"arc\")"
   ]
  },
  {
   "cell_type": "code",
   "execution_count": 42,
   "metadata": {},
   "outputs": [
    {
     "name": "stdout",
     "output_type": "stream",
     "text": [
      "[[0.         0.00269647 0.00371027]\n",
      " [0.00269647 0.         0.00640673]\n",
      " [0.00371027 0.00640673 0.        ]]\n",
      "[0.0005403  0.00269647 0.00360921]\n",
      "(45,) (45, 2) 45 0 8 1 9 10\n",
      "[0.0001785  0.00032354 0.00050204]\n",
      "(435,) (435, 2) 435 0 28 1 29 30\n",
      "[3.65774188e-06 9.63887460e-06 1.68553344e-05]\n",
      "(1225,) (1225, 2) 1225 0 48 1 49 50\n"
     ]
    },
    {
     "data": {
      "image/png": "[encoded data removed]",
      "text/plain": [
       "<Figure size 640x480 with 1 Axes>"
      ]
     },
     "metadata": {},
     "output_type": "display_data"
    },
    {
     "name": "stdout",
     "output_type": "stream",
     "text": [
      "[[0.         0.07689618 0.22501437]\n",
      " [0.07689618 0.         0.30125596]\n",
      " [0.22501437 0.30125596 0.        ]]\n",
      "[0.00443079 0.00805953 0.01023956]\n",
      "(45,) (45, 2) 45 0 8 1 9 10\n",
      "[1.07438406e-05 9.43237730e-05 1.90544724e-04]\n",
      "(435,) (435, 2) 435 0 28 1 29 30\n",
      "[1.07438406e-05 1.76065055e-05 5.19654576e-05]\n",
      "(1225,) (1225, 2) 1225 0 48 1 49 50\n"
     ]
    },
    {
     "data": {
      "image/png": "[encoded data removed]",
      "text/plain": [
       "<Figure size 640x480 with 1 Axes>"
      ]
     },
     "metadata": {},
     "output_type": "display_data"
    }
   ],
   "source": [
    "local_dim_arc_fast = local_FCI_fast(arc, centers_arc[:2], neighbors[:3], debug=True, dataset_name=\"arc\")"
   ]
  },
  {
   "cell_type": "code",
   "execution_count": 43,
   "metadata": {},
   "outputs": [],
   "source": [
    "with h5py.File(f\"distances_arc_{centers_arc[0]}_fast.hdf5\", \"r\") as f:\n",
    "    distances = f[f\"distances_{neighbors[1]}\"][:]"
   ]
  },
  {
   "cell_type": "code",
   "execution_count": 44,
   "metadata": {},
   "outputs": [],
   "source": [
    "with h5py.File(f\"distances_FCI_arc_{centers_arc[0]}_{neighbors[1]}.h5\", \"r\") as f:\n",
    "    distances_fci = f[f\"distances\"][:]"
   ]
  },
  {
   "cell_type": "code",
   "execution_count": 45,
   "metadata": {},
   "outputs": [
    {
     "name": "stdout",
     "output_type": "stream",
     "text": [
      "453 30\n"
     ]
    }
   ],
   "source": [
    "print(centers_arc[0], neighbors[1])"
   ]
  },
  {
   "cell_type": "code",
   "execution_count": 46,
   "metadata": {},
   "outputs": [
    {
     "name": "stdout",
     "output_type": "stream",
     "text": [
      "(435,) (435,)\n"
     ]
    }
   ],
   "source": [
    "print(distances.shape, distances_fci.shape)"
   ]
  },
  {
   "cell_type": "code",
   "execution_count": 47,
   "metadata": {},
   "outputs": [
    {
     "data": {
      "image/png": "[encoded data removed]",
      "text/plain": [
       "<Figure size 640x480 with 1 Axes>"
      ]
     },
     "metadata": {},
     "output_type": "display_data"
    }
   ],
   "source": [
    "fig, ax = plt.subplots()\n",
    "ax.plot(distances, distances_fci, '*-')\n",
    "ax.set_xlabel(\"distances\")\n",
    "ax.set_ylabel(\"distances_fci\")\n",
    "plt.show()"
   ]
  },
  {
   "cell_type": "code",
   "execution_count": 48,
   "metadata": {},
   "outputs": [
    {
     "data": {
      "image/png": "[encoded data removed]",
      "text/plain": [
       "<Figure size 640x480 with 1 Axes>"
      ]
     },
     "metadata": {},
     "output_type": "display_data"
    }
   ],
   "source": [
    "fig, ax = plt.subplots()\n",
    "ax.plot(distances)\n",
    "ax.plot(distances_fci)\n",
    "ax.set_ylabel(\"distances\")\n",
    "plt.show()"
   ]
  },
  {
   "cell_type": "code",
   "execution_count": 49,
   "metadata": {},
   "outputs": [
    {
     "name": "stdout",
     "output_type": "stream",
     "text": [
      "[[[10.          1.1366749 ]\n",
      "  [30.          1.15251951]\n",
      "  [50.          1.20828518]]\n",
      "\n",
      " [[10.          1.11998272]\n",
      "  [30.          1.17980154]\n",
      "  [50.          1.18807881]]]\n"
     ]
    }
   ],
   "source": [
    "print(local_dim_arc[0])"
   ]
  },
  {
   "cell_type": "code",
   "execution_count": 50,
   "metadata": {},
   "outputs": [
    {
     "name": "stdout",
     "output_type": "stream",
     "text": [
      "[[[10.          1.19711575]\n",
      "  [30.          1.19928245]\n",
      "  [50.          1.20937891]]\n",
      "\n",
      " [[10.          1.28734621]\n",
      "  [30.          1.23267058]\n",
      "  [50.          1.1615821 ]]]\n"
     ]
    }
   ],
   "source": [
    "print(local_dim_arc_fast[0])"
   ]
  },
  {
   "cell_type": "code",
   "execution_count": 51,
   "metadata": {},
   "outputs": [
    {
     "name": "stderr",
     "output_type": "stream",
     "text": [
      "/tmp/ipykernel_21643/3218084501.py:40: OptimizeWarning: Covariance of the parameters could not be estimated\n",
      "  fit = fit_FCI(correlation_integral)\n"
     ]
    }
   ],
   "source": [
    "local_dim_arc_f = local_FCI_fast(arc, centers_arc, neighbors)\n",
    "local_dim_swiss_f = local_FCI_fast(swiss_roll, centers_swiss, neighbors)"
   ]
  },
  {
   "cell_type": "code",
   "execution_count": 52,
   "metadata": {},
   "outputs": [
    {
     "name": "stderr",
     "output_type": "stream",
     "text": [
      "/tmp/ipykernel_21643/3218084501.py:40: OptimizeWarning: Covariance of the parameters could not be estimated\n",
      "  fit = fit_FCI(correlation_integral)\n",
      "/tmp/ipykernel_21643/3218084501.py:40: OptimizeWarning: Covariance of the parameters could not be estimated\n",
      "  fit = fit_FCI(correlation_integral)\n",
      "/tmp/ipykernel_21643/3218084501.py:40: OptimizeWarning: Covariance of the parameters could not be estimated\n",
      "  fit = fit_FCI(correlation_integral)\n",
      "/tmp/ipykernel_21643/3218084501.py:40: OptimizeWarning: Covariance of the parameters could not be estimated\n",
      "  fit = fit_FCI(correlation_integral)\n",
      "/tmp/ipykernel_21643/3218084501.py:40: OptimizeWarning: Covariance of the parameters could not be estimated\n",
      "  fit = fit_FCI(correlation_integral)\n",
      "/tmp/ipykernel_21643/3218084501.py:40: OptimizeWarning: Covariance of the parameters could not be estimated\n",
      "  fit = fit_FCI(correlation_integral)\n",
      "/tmp/ipykernel_21643/3218084501.py:40: OptimizeWarning: Covariance of the parameters could not be estimated\n",
      "  fit = fit_FCI(correlation_integral)\n",
      "/tmp/ipykernel_21643/3218084501.py:40: OptimizeWarning: Covariance of the parameters could not be estimated\n",
      "  fit = fit_FCI(correlation_integral)\n"
     ]
    },
    {
     "name": "stdout",
     "output_type": "stream",
     "text": [
      "8.76 s ± 700 ms per loop (mean ± std. dev. of 7 runs, 1 loop each)\n",
      "3.1 s ± 326 ms per loop (mean ± std. dev. of 7 runs, 1 loop each)\n"
     ]
    }
   ],
   "source": [
    "%timeit local_FCI_fast(arc, centers_arc, neighbors)\n",
    "%timeit local_FCI_fast(swiss_roll, centers_swiss, neighbors)"
   ]
  },
  {
   "cell_type": "markdown",
   "metadata": {},
   "source": [
    "### Check"
   ]
  },
  {
   "cell_type": "markdown",
   "metadata": {},
   "source": [
    "#### Local W"
   ]
  },
  {
   "cell_type": "code",
   "execution_count": 53,
   "metadata": {},
   "outputs": [
    {
     "name": "stdout",
     "output_type": "stream",
     "text": [
      "[[ 10.           1.13667489]\n",
      " [ 30.           1.15251951]\n",
      " [ 50.           1.21255142]\n",
      " [100.           1.21655795]\n",
      " [200.           1.25148779]\n",
      " [300.           1.29470861]\n",
      " [400.           1.31485178]\n",
      " [500.           1.32697789]]\n"
     ]
    }
   ],
   "source": [
    "print(local_dim_arc_w[0][:,(0,2)])"
   ]
  },
  {
   "cell_type": "markdown",
   "metadata": {},
   "source": [
    "#### Local dist"
   ]
  },
  {
   "cell_type": "code",
   "execution_count": 54,
   "metadata": {},
   "outputs": [
    {
     "name": "stdout",
     "output_type": "stream",
     "text": [
      "[[ 10.           1.1366749 ]\n",
      " [ 30.           1.15251951]\n",
      " [ 50.           1.20928453]\n",
      " [100.           1.21043403]\n",
      " [200.           1.26676784]\n",
      " [300.           1.29207116]\n",
      " [400.           1.30967633]\n",
      " [500.           1.31396478]]\n"
     ]
    }
   ],
   "source": [
    "print(local_dist_arc_d[0][0])"
   ]
  },
  {
   "cell_type": "markdown",
   "metadata": {},
   "source": [
    "#### Fast"
   ]
  },
  {
   "cell_type": "code",
   "execution_count": 55,
   "metadata": {},
   "outputs": [
    {
     "name": "stdout",
     "output_type": "stream",
     "text": [
      "[[ 10.           0.        ]\n",
      " [ 30.           0.        ]\n",
      " [ 50.           1.59483635]\n",
      " [100.           1.57528963]\n",
      " [200.           1.52870788]\n",
      " [300.           1.43637897]\n",
      " [400.           1.3867455 ]\n",
      " [500.           1.36699192]]\n"
     ]
    }
   ],
   "source": [
    "print(local_dim_arc_f[0][0])"
   ]
  },
  {
   "cell_type": "markdown",
   "metadata": {},
   "source": [
    "## Conclusions\n",
    "\n",
    "The development of a fast localFCI algorithm clashes with the need of a local normalization of the neighborhood: normalizing the neighborhood before computing the distances on the largest neighborhood and then using them for the smaller ones introduces an unwanted bias."
   ]
  }
 ],
 "metadata": {
  "kernelspec": {
   "display_name": "Python 3",
   "language": "python",
   "name": "python3"
  },
  "language_info": {
   "codemirror_mode": {
    "name": "ipython",
    "version": 3
   },
   "file_extension": ".py",
   "mimetype": "text/x-python",
   "name": "python",
   "nbconvert_exporter": "python",
   "pygments_lexer": "ipython3",
   "version": "3.10.12"
  }
 },
 "nbformat": 4,
 "nbformat_minor": 2
}
